{
 "cells": [
  {
   "cell_type": "code",
   "execution_count": 20,
   "id": "5a19b402-cfa8-4955-93b8-38b9a9a487eb",
   "metadata": {},
   "outputs": [
    {
     "ename": "IndentationError",
     "evalue": "unexpected indent (3603161416.py, line 4)",
     "output_type": "error",
     "traceback": [
      "\u001b[1;36m  Cell \u001b[1;32mIn[20], line 4\u001b[1;36m\u001b[0m\n\u001b[1;33m    not equals:a !=b\u001b[0m\n\u001b[1;37m    ^\u001b[0m\n\u001b[1;31mIndentationError\u001b[0m\u001b[1;31m:\u001b[0m unexpected indent\n"
     ]
    }
   ],
   "source": [
    "# Conditional Statements:\n",
    "#Python supports these logical conditions from mathematics:\n",
    "equals:a=b\n",
    " not equals:a !=b"
   ]
  },
  {
   "cell_type": "code",
   "execution_count": 3,
   "id": "ee314172-ab16-4e60-8c4e-b68341ef6eae",
   "metadata": {},
   "outputs": [
    {
     "name": "stdout",
     "output_type": "stream",
     "text": [
      "b is greater than a\n"
     ]
    }
   ],
   "source": [
    "# \"if statement\"is written by using the\n",
    "a=50\n",
    "b=100\n",
    "if b>a:\n",
    " print(\"b is greater than a\")"
   ]
  },
  {
   "cell_type": "code",
   "execution_count": 5,
   "id": "7421f425-dbbd-44aa-9b8d-4ecc90473bcc",
   "metadata": {},
   "outputs": [
    {
     "name": "stdout",
     "output_type": "stream",
     "text": [
      "b is greater than a\n"
     ]
    }
   ],
   "source": [
    "# identation error\n",
    "a=50\n",
    "b=100\n",
    "if b>a:\n",
    "    print(\"b is greater than a\")"
   ]
  },
  {
   "cell_type": "code",
   "execution_count": 18,
   "id": "d8581d20-a7cb-4043-8c5d-31ca9920f35e",
   "metadata": {},
   "outputs": [
    {
     "name": "stdin",
     "output_type": "stream",
     "text": [
      "enter a number: 1\n"
     ]
    },
    {
     "name": "stdout",
     "output_type": "stream",
     "text": [
      "given number is a positive number\n"
     ]
    }
   ],
   "source": [
    "number=int(input('enter a number:'))\n",
    "\n",
    "# check if number is greater than a\n",
    "if number >0:\n",
    "  print(\"given number is a positive number\")\n"
   ]
  },
  {
   "cell_type": "code",
   "execution_count": 16,
   "id": "e5fbdcb7-12c4-4236-8809-36517565f655",
   "metadata": {},
   "outputs": [
    {
     "name": "stdin",
     "output_type": "stream",
     "text": [
      "enter a number: -9\n"
     ]
    },
    {
     "name": "stdout",
     "output_type": "stream",
     "text": [
      "given number is negative\n"
     ]
    }
   ],
   "source": [
    "number=int(input('enter a number:'))\n",
    "\n",
    "#check if number is greater than 0\n",
    "if number >0:\n",
    "    print(\"given number is a positive number\")\n",
    "else:\n",
    "    print(\"given number is negative\")"
   ]
  },
  {
   "cell_type": "code",
   "execution_count": 17,
   "id": "2f76b818-0b8a-414b-a263-9e2c3246cb37",
   "metadata": {},
   "outputs": [],
   "source": [
    "#if..else  statement\n",
    "\n",
    "#if condition:\n",
    "#body of if statement\n",
    "#else:\n",
    " #body of else statement"
   ]
  },
  {
   "cell_type": "code",
   "execution_count": null,
   "id": "fdf743c0-e62b-454c-bdb8-da3a1765056f",
   "metadata": {},
   "outputs": [],
   "source": []
  },
  {
   "cell_type": "code",
   "execution_count": null,
   "id": "f723c311-f2ad-47ec-a3ab-0aed89d273b3",
   "metadata": {},
   "outputs": [],
   "source": []
  },
  {
   "cell_type": "code",
   "execution_count": null,
   "id": "02a73512-bee9-4570-9526-90c19d52ac93",
   "metadata": {},
   "outputs": [],
   "source": []
  },
  {
   "cell_type": "code",
   "execution_count": null,
   "id": "30c6c8c5-30fc-4c9f-a1db-29d7e4b80699",
   "metadata": {},
   "outputs": [],
   "source": []
  }
 ],
 "metadata": {
  "kernelspec": {
   "display_name": "Python 3 (ipykernel)",
   "language": "python",
   "name": "python3"
  },
  "language_info": {
   "codemirror_mode": {
    "name": "ipython",
    "version": 3
   },
   "file_extension": ".py",
   "mimetype": "text/x-python",
   "name": "python",
   "nbconvert_exporter": "python",
   "pygments_lexer": "ipython3",
   "version": "3.12.4"
  }
 },
 "nbformat": 4,
 "nbformat_minor": 5
}
