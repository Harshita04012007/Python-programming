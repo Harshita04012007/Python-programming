{
 "cells": [
  {
   "cell_type": "code",
   "execution_count": 1,
   "id": "e8b74cd5-a86a-43d6-8666-5541e159f2cc",
   "metadata": {},
   "outputs": [
    {
     "name": "stdout",
     "output_type": "stream",
     "text": [
      "(1, 2, 3, 4, 5)\n"
     ]
    }
   ],
   "source": [
    "#tuple\n",
    "ordered,indexed\n",
    "unchangeable\n",
    "\n",
    "t1=(1,2,3,4,5)\n",
    "print(t1)"
   ]
  },
  {
   "cell_type": "code",
   "execution_count": 3,
   "id": "14769618-a372-4a63-bc05-044dccdb7b1a",
   "metadata": {},
   "outputs": [
    {
     "name": "stdout",
     "output_type": "stream",
     "text": [
      "5\n"
     ]
    }
   ],
   "source": [
    "print(len(t1))\n"
   ]
  },
  {
   "cell_type": "code",
   "execution_count": 3,
   "id": "d7b34dbc-4df9-42f7-b579-b9013490fcbe",
   "metadata": {},
   "outputs": [
    {
     "name": "stdout",
     "output_type": "stream",
     "text": [
      "('apple', 'banana', 'cherry', 'kiwi')\n"
     ]
    }
   ],
   "source": [
    "fruit=(\"apple\",\"banana\",\"cherry\",\"kiwi\")\n",
    "print(fruit)"
   ]
  },
  {
   "cell_type": "code",
   "execution_count": 4,
   "id": "f395538d-b975-427d-8678-af18c933b6c8",
   "metadata": {},
   "outputs": [
    {
     "name": "stdout",
     "output_type": "stream",
     "text": [
      "<class 'tuple'>\n"
     ]
    }
   ],
   "source": [
    "print(type(fruit))"
   ]
  },
  {
   "cell_type": "code",
   "execution_count": 5,
   "id": "b6f94186-8160-4a9e-b1e3-0e8db7990ada",
   "metadata": {},
   "outputs": [
    {
     "name": "stdout",
     "output_type": "stream",
     "text": [
      "4\n"
     ]
    }
   ],
   "source": [
    "print(len(fruit))"
   ]
  },
  {
   "cell_type": "code",
   "execution_count": null,
   "id": "3ae0b106-d4ab-4ab2-8e19-a31d42fe43e9",
   "metadata": {},
   "outputs": [],
   "source": []
  }
 ],
 "metadata": {
  "kernelspec": {
   "display_name": "Python 3 (ipykernel)",
   "language": "python",
   "name": "python3"
  },
  "language_info": {
   "codemirror_mode": {
    "name": "ipython",
    "version": 3
   },
   "file_extension": ".py",
   "mimetype": "text/x-python",
   "name": "python",
   "nbconvert_exporter": "python",
   "pygments_lexer": "ipython3",
   "version": "3.12.4"
  }
 },
 "nbformat": 4,
 "nbformat_minor": 5
}
