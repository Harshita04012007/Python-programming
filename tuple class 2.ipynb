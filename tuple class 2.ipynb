{
 "cells": [
  {
   "cell_type": "code",
   "execution_count": 1,
   "id": "e76b8631-36ea-4157-957b-65982905cd69",
   "metadata": {},
   "outputs": [
    {
     "name": "stdout",
     "output_type": "stream",
     "text": [
      "('AAFT',)\n"
     ]
    }
   ],
   "source": [
    "t1=('AAFT',)\n",
    "print(t1)"
   ]
  },
  {
   "cell_type": "code",
   "execution_count": 2,
   "id": "c172517c-755f-4cdd-82f9-d090692f969c",
   "metadata": {},
   "outputs": [
    {
     "name": "stdout",
     "output_type": "stream",
     "text": [
      "<class 'tuple'>\n"
     ]
    }
   ],
   "source": [
    "print(type(t1))"
   ]
  },
  {
   "cell_type": "code",
   "execution_count": 7,
   "id": "7390df81-5ec3-4398-9ec2-87fc2e5d6c84",
   "metadata": {},
   "outputs": [
    {
     "name": "stdout",
     "output_type": "stream",
     "text": [
      "<class 'tuple'>\n"
     ]
    }
   ],
   "source": [
    "t2=(1,)\n",
    "print(type(t2))"
   ]
  },
  {
   "cell_type": "code",
   "execution_count": 8,
   "id": "f3c8a9b2-3409-49a6-8290-7bd3ca339478",
   "metadata": {},
   "outputs": [
    {
     "name": "stdout",
     "output_type": "stream",
     "text": [
      "<class 'int'>\n"
     ]
    }
   ],
   "source": [
    "t2=(1)\n",
    "print(type(t2))"
   ]
  },
  {
   "cell_type": "code",
   "execution_count": 9,
   "id": "b8c0ea5e-7fef-4fde-840f-f561a1ad322c",
   "metadata": {},
   "outputs": [
    {
     "name": "stdout",
     "output_type": "stream",
     "text": [
      "banana\n"
     ]
    }
   ],
   "source": [
    "#access tuple items\n",
    "thistuple=(\"apple\",\"banana\",\"cherry\")\n",
    "print(thistuple[1])"
   ]
  },
  {
   "cell_type": "code",
   "execution_count": 10,
   "id": "e6484a14-b788-46e3-b232-9467c135b43d",
   "metadata": {},
   "outputs": [
    {
     "name": "stdout",
     "output_type": "stream",
     "text": [
      "cherry\n"
     ]
    }
   ],
   "source": [
    "print(thistuple[2])"
   ]
  },
  {
   "cell_type": "code",
   "execution_count": 11,
   "id": "fdc8251b-ab45-4c63-a24b-ffc88720e176",
   "metadata": {},
   "outputs": [
    {
     "name": "stdout",
     "output_type": "stream",
     "text": [
      "apple\n"
     ]
    }
   ],
   "source": [
    "print(thistuple[0])"
   ]
  },
  {
   "cell_type": "code",
   "execution_count": 15,
   "id": "437b5134-f3d1-4de6-bf6f-4a1c90c8a120",
   "metadata": {},
   "outputs": [
    {
     "name": "stdout",
     "output_type": "stream",
     "text": [
      "b\n"
     ]
    }
   ],
   "source": [
    "#\n",
    "t1=('a','b','c','d','e','f')\n",
    "print(t1[1])\n",
    "    "
   ]
  },
  {
   "cell_type": "code",
   "execution_count": 16,
   "id": "d6545413-49ec-4c9b-908f-47df694a8b59",
   "metadata": {},
   "outputs": [
    {
     "name": "stdout",
     "output_type": "stream",
     "text": [
      "('c', 'd')\n"
     ]
    }
   ],
   "source": [
    "print(t1[2:4])"
   ]
  },
  {
   "cell_type": "code",
   "execution_count": 17,
   "id": "d670e112-2d59-40a2-8e75-7f1f025bcf81",
   "metadata": {},
   "outputs": [
    {
     "name": "stdout",
     "output_type": "stream",
     "text": [
      "('c', 'd')\n"
     ]
    }
   ],
   "source": [
    "print(t1[-4:-2])"
   ]
  },
  {
   "cell_type": "code",
   "execution_count": 18,
   "id": "2b75befb-0103-473b-bced-6fecf71b6b2a",
   "metadata": {},
   "outputs": [
    {
     "name": "stdout",
     "output_type": "stream",
     "text": [
      "('a', 'b', 'c', 'd', 'e', 'f')\n"
     ]
    }
   ],
   "source": [
    "print(t1[:])"
   ]
  },
  {
   "cell_type": "code",
   "execution_count": 19,
   "id": "09369bce-b8dd-4eae-aa32-6c8034f9d34a",
   "metadata": {},
   "outputs": [
    {
     "name": "stdout",
     "output_type": "stream",
     "text": [
      "c\n"
     ]
    }
   ],
   "source": [
    "print(t1[-4])"
   ]
  },
  {
   "cell_type": "code",
   "execution_count": 20,
   "id": "065253ea-4665-4530-a214-98393f628b59",
   "metadata": {},
   "outputs": [
    {
     "name": "stdout",
     "output_type": "stream",
     "text": [
      "('b', 'c', 'd', 'e', 'f')\n"
     ]
    }
   ],
   "source": [
    "print(t1[1:])"
   ]
  },
  {
   "cell_type": "code",
   "execution_count": 21,
   "id": "b1484a3b-a5c8-48f2-88ed-55c753d8d53e",
   "metadata": {},
   "outputs": [
    {
     "name": "stdout",
     "output_type": "stream",
     "text": [
      "('a', 'b', 'c', 'd')\n"
     ]
    }
   ],
   "source": [
    "print(t1[0:4])"
   ]
  },
  {
   "cell_type": "code",
   "execution_count": 22,
   "id": "918cd634-216f-46f2-a6d4-f9d6c15cc0b0",
   "metadata": {},
   "outputs": [
    {
     "name": "stdout",
     "output_type": "stream",
     "text": [
      "('a',)\n"
     ]
    }
   ],
   "source": [
    "print(t1[:1])"
   ]
  },
  {
   "cell_type": "code",
   "execution_count": 38,
   "id": "f5d1e03f-d9dd-4b27-b539-3717d75d976d",
   "metadata": {},
   "outputs": [
    {
     "name": "stdout",
     "output_type": "stream",
     "text": [
      "('a',)\n"
     ]
    }
   ],
   "source": [
    "print(t1[:-2])\n"
   ]
  },
  {
   "cell_type": "code",
   "execution_count": 42,
   "id": "c0f87168-9fb6-45bc-afc2-5bec8e9e342b",
   "metadata": {},
   "outputs": [
    {
     "name": "stdout",
     "output_type": "stream",
     "text": [
      "<class 'tuple'>\n",
      "['a', 'b', 'c', 'd']\n",
      "<class 'list'>\n",
      "['a', 'b', 'c', 'z']\n",
      "('a', 'b', 'c', 'z')\n"
     ]
    }
   ],
   "source": [
    "#change tuple value\n",
    "t1=(\"a\",\"b\",\"c\",\"d\")\n",
    "print(type(t1))\n",
    "#changing to list\n",
    "l1=list(t1)\n",
    "print(l1)\n",
    "print(type(l1))\n",
    "#performing change in the list\n",
    "l1[3]=\"z\"\n",
    "print(l1)\n",
    "#making it a tuple again\n",
    "t1=tuple(l1)\n",
    "print(t1)"
   ]
  },
  {
   "cell_type": "code",
   "execution_count": null,
   "id": "2f1dcbf0-7bf5-4669-a85b-b4e5364e55e0",
   "metadata": {},
   "outputs": [],
   "source": []
  }
 ],
 "metadata": {
  "kernelspec": {
   "display_name": "Python 3 (ipykernel)",
   "language": "python",
   "name": "python3"
  },
  "language_info": {
   "codemirror_mode": {
    "name": "ipython",
    "version": 3
   },
   "file_extension": ".py",
   "mimetype": "text/x-python",
   "name": "python",
   "nbconvert_exporter": "python",
   "pygments_lexer": "ipython3",
   "version": "3.12.4"
  }
 },
 "nbformat": 4,
 "nbformat_minor": 5
}
