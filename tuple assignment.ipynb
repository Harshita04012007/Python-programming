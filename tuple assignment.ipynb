{
 "cells": [
  {
   "cell_type": "code",
   "execution_count": 36,
   "id": "742928ef-4311-4cbe-84b8-9fc1e006cf78",
   "metadata": {},
   "outputs": [],
   "source": [
    "#####ASSIGNMENT\n"
   ]
  },
  {
   "cell_type": "code",
   "execution_count": 37,
   "id": "275dc389-5cdc-4175-988a-ffbb50ca8248",
   "metadata": {},
   "outputs": [
    {
     "ename": "AttributeError",
     "evalue": "'tuple' object has no attribute '_sizeof_'",
     "output_type": "error",
     "traceback": [
      "\u001b[1;31m---------------------------------------------------------------------------\u001b[0m",
      "\u001b[1;31mAttributeError\u001b[0m                            Traceback (most recent call last)",
      "Cell \u001b[1;32mIn[37], line 3\u001b[0m\n\u001b[0;32m      1\u001b[0m \u001b[38;5;66;03m#1  python program to find the size of tuple\u001b[39;00m\n\u001b[0;32m      2\u001b[0m tuple1 \u001b[38;5;241m=\u001b[39m (\u001b[38;5;124m\"\u001b[39m\u001b[38;5;124mA\u001b[39m\u001b[38;5;124m\"\u001b[39m,\u001b[38;5;241m1\u001b[39m,\u001b[38;5;124m\"\u001b[39m\u001b[38;5;124mB\u001b[39m\u001b[38;5;124m\"\u001b[39m,\u001b[38;5;241m2\u001b[39m,\u001b[38;5;124m\"\u001b[39m\u001b[38;5;124mC\u001b[39m\u001b[38;5;124m\"\u001b[39m,\u001b[38;5;241m3\u001b[39m)\n\u001b[1;32m----> 3\u001b[0m \u001b[38;5;28mprint\u001b[39m(\u001b[38;5;124m\"\u001b[39m\u001b[38;5;124msize of tuple1:\u001b[39m\u001b[38;5;124m\"\u001b[39m \u001b[38;5;241m+\u001b[39m \u001b[38;5;28mstr\u001b[39m(tuple1\u001b[38;5;241m.\u001b[39m_sizeof_())\u001b[38;5;241m+\u001b[39m  \u001b[38;5;124m\"\u001b[39m\u001b[38;5;124mbytes\u001b[39m\u001b[38;5;124m\"\u001b[39m)\n",
      "\u001b[1;31mAttributeError\u001b[0m: 'tuple' object has no attribute '_sizeof_'"
     ]
    }
   ],
   "source": [
    "#1  python program to find the size of tuple\n",
    "tuple1 = (\"A\",1,\"B\",2,\"C\",3)\n",
    "print(\"size of tuple1:\" + str(tuple1._sizeof_())+  \"bytes\")"
   ]
  },
  {
   "cell_type": "code",
   "execution_count": null,
   "id": "9415f707-1c64-4a84-8141-847eb3841990",
   "metadata": {},
   "outputs": [],
   "source": [
    "#2 maximum and minimum k elements in tuple.\n",
    "test_tup =(5,20,3,7,6,8)\n",
    "#printing originam tuple\n",
    "print(\"the original tuple is :\"+str(test_tup))\n",
    "#initalizing k\n",
    "k=2\n",
    "#maximum and minimum k elements in tuple\n",
    "#using sorted()+loop\n",
    "res=[]\n",
    "test_tup= list(sorted(test_tupp))\n",
    "for idx,val in enumerate(test_tup):\n",
    "    if idx < k or idx >= len(test_tup) -k:\n",
    "        res.append(val)\n",
    "     res=tuple(res)\n",
    "    #printing result\n",
    "     print(\"the extracted values:\"+str(res))"
   ]
  },
  {
   "cell_type": "code",
   "execution_count": null,
   "id": "4d3dbf15-66ab-4572-952c-c114e691f22e",
   "metadata": {},
   "outputs": [],
   "source": [
    "#3 create a list of tuples from given list having number and its cube in each tuple"
   ]
  },
  {
   "cell_type": "code",
   "execution_count": null,
   "id": "0d6b41aa-aae4-4ce9-8674-0a11452cd4d8",
   "metadata": {},
   "outputs": [],
   "source": [
    "shr2001=[1,2,3,4,5,6]\n",
    "my_result=[(val, pow(val,3)) for val in \n",
    "shr2001]\n",
    "print(my_result)"
   ]
  },
  {
   "cell_type": "code",
   "execution_count": null,
   "id": "bbd2aaab-8482-4d88-a235-8fb9ce4d5cf2",
   "metadata": {},
   "outputs": [],
   "source": [
    "#4 adding tuple to list and vice-versa"
   ]
  },
  {
   "cell_type": "code",
   "execution_count": null,
   "id": "b7e274fa-6155-4321-a17d-eb767df8d57d",
   "metadata": {},
   "outputs": [],
   "source": [
    "shr2001=[1,2,3,4,5,6]\n",
    "shr2002=(7,8)\n",
    "shr2001 +=shr2002\n",
    "print(str(shr2001))"
   ]
  },
  {
   "cell_type": "code",
   "execution_count": null,
   "id": "ee78bbb6-e3a4-4355-828a-20302a814850",
   "metadata": {},
   "outputs": [],
   "source": [
    "#5 sum  of tuple element"
   ]
  },
  {
   "cell_type": "code",
   "execution_count": null,
   "id": "0ef1c144-b959-489a-a07b-dc47b90fb374",
   "metadata": {},
   "outputs": [],
   "source": [
    "shr2001=(7,8)\n",
    "print(sum(shr2001))"
   ]
  },
  {
   "cell_type": "code",
   "execution_count": null,
   "id": "f7170eeb-1064-4003-94d8-f12acabfd07b",
   "metadata": {},
   "outputs": [],
   "source": [
    "#6 modulo of tuple element"
   ]
  },
  {
   "cell_type": "code",
   "execution_count": null,
   "id": "dc59230e-92dc-4431-88b0-0d2435a62cc9",
   "metadata": {},
   "outputs": [],
   "source": [
    "shr2001=(1,2,3,4)\n",
    "shr2002=(5,6,7,8)\n",
    "res=tuple(map(mod, shr2001,shr2002))\n",
    "print(str(res))"
   ]
  },
  {
   "cell_type": "code",
   "execution_count": null,
   "id": "2ecfe9f4-56ff-449f-a42e-dd8406ee2db0",
   "metadata": {},
   "outputs": [],
   "source": [
    "#7 row-wise element addition in tuple matrix"
   ]
  },
  {
   "cell_type": "code",
   "execution_count": null,
   "id": "18c334ed-cf55-44d2-8419-90ab8a44d881",
   "metadata": {},
   "outputs": [],
   "source": [
    "shr2001 = [[(\"nothing\",3),(\"but\",3)],\n",
    "           [(\"creativity\",1)],[(\"creat\",5),(\"thing\",1)]]\n",
    "shr2002 = [6,7,8]\n",
    "res = [[sub + (shr2002[idix], ) for sub in val] for idx, val in enumerate(shr2001)]\n",
    "print(str(res))"
   ]
  },
  {
   "cell_type": "code",
   "execution_count": null,
   "id": "45a773b6-030e-4f09-9196-1b80776dcace",
   "metadata": {},
   "outputs": [],
   "source": [
    "#8 update each element in tuple list"
   ]
  },
  {
   "cell_type": "code",
   "execution_count": null,
   "id": "63b58417-cee6-4c88-9539-1b52730fbb15",
   "metadata": {},
   "outputs": [],
   "source": [
    "shr2001=(10,20,30,40)\n",
    "shr2002= list(shr2001)\n",
    "update_shr2002 = [item +100 for item in shr2002]\n",
    "update_tuple=tuple(update_shr2002)\n",
    "print(update_tuple)"
   ]
  },
  {
   "cell_type": "code",
   "execution_count": null,
   "id": "5ddaef0f-fc0f-4792-a1f7-f5809f70a3e7",
   "metadata": {},
   "outputs": [],
   "source": [
    "#9 multiply adjacent elements\n",
    "shr2001 =(7,8,0,3,45,3,2,22)\n",
    "my_result=tuple(i * j for i,j in \n",
    "                zip(shr2001,shr2001[1:]))\n",
    "print (my_result)"
   ]
  },
  {
   "cell_type": "code",
   "execution_count": null,
   "id": "2e10c0ca-4bef-4506-ac33-c1c2f083714c",
   "metadata": {},
   "outputs": [],
   "source": [
    "#10 join tuple if similar inital element\n",
    "shr2001 =[(43,15),(66,98),(64,80),(14,9),(47,17)]\n",
    "my_result=[]\n",
    "for sub in shr2001:\n",
    "    if my_result and my_result[-1][0] ==sub[0]:\n",
    "        if my_result [-1].extend(sub[1:])\n",
    "        else:\n",
    "            my_result.append([ele for ele in sub])\n",
    "            my_result = list(map(tuple,my_result))\n",
    "            print(my_result)"
   ]
  },
  {
   "cell_type": "code",
   "execution_count": null,
   "id": "64b9fca4-c318-4fc7-9e84-a1bbe6055795",
   "metadata": {},
   "outputs": [],
   "source": [
    "#11 all pair combinations of 2 tuples from itertools import product"
   ]
  },
  {
   "cell_type": "code",
   "execution_count": null,
   "id": "a4805b98-3339-41c4-af27-0b718a7610f3",
   "metadata": {},
   "outputs": [],
   "source": [
    "n = 2\n",
    "\n",
    "my_result = [ele for ele in product(range(1,n + 1), repeat  =n)]\n",
    "print(my_result)"
   ]
  },
  {
   "cell_type": "code",
   "execution_count": null,
   "id": "ce57e6ba-4a2d-474d-b702-3b2022454041",
   "metadata": {},
   "outputs": [],
   "source": [
    "#12 remove  tuples of length r"
   ]
  },
  {
   "cell_type": "code",
   "execution_count": null,
   "id": "8dc1bac8-6614-470a-a48a-50fdff78009c",
   "metadata": {},
   "outputs": [],
   "source": [
    "shr2001 = [(32,51), (22,13),(95,67,78),(70, ), (80,64,55,13,16)]\n",
    "r=2\n",
    "my_result =[ele for ele in shr2001 if len(ele) !=r]\n",
    "print(my_result)"
   ]
  },
  {
   "cell_type": "code",
   "execution_count": null,
   "id": "591213ad-ce2c-43bf-8df9-12cb27217ad3",
   "metadata": {},
   "outputs": [],
   "source": [
    "#13 remove tuple from the list having every element as none"
   ]
  },
  {
   "cell_type": "code",
   "execution_count": null,
   "id": "1f193738-a260-43d0-ad90-f82be16d1657",
   "metadata": {},
   "outputs": [],
   "source": [
    "shr2001 = [(2, none,12),(none, none, none), (22, 64), (121, 13), (none, ), (none,45, 6)]\n",
    "my_result = [sub for sub in shr2001 if not all(elem == none for elem in sub)]\n",
    "print(my_result)"
   ]
  },
  {
   "cell_type": "code",
   "execution_count": null,
   "id": "9b6add61-6256-4fde-9dc4-73a62339d853",
   "metadata": {},
   "outputs": [],
   "source": [
    "#14 sort a list of tuple by second items\n"
   ]
  },
  {
   "cell_type": "code",
   "execution_count": null,
   "id": "51a6c668-6144-4374-94b1-bc8989233cd2",
   "metadata": {},
   "outputs": [],
   "source": [
    "def tuple_sort(shr2001):\n",
    "    return(sorted(shr2001, key = lambda x:\n",
    "                  x[1]))\n",
    "    shr2001 = [('bill', 11),('rick', 45),\n",
    "    ('john', 89), ('liv',25)]\n",
    "    print(tuple_sort(shr2001))"
   ]
  },
  {
   "cell_type": "code",
   "execution_count": null,
   "id": "ca409a01-813b-4265-9264-5c7e883b5f34",
   "metadata": {},
   "outputs": [],
   "source": [
    "#15 sort tuple by total digits"
   ]
  },
  {
   "cell_type": "code",
   "execution_count": null,
   "id": "2355c9c8-ff03-47d2-b8e3-d1d8d8ec4fab",
   "metadata": {},
   "outputs": [],
   "source": [
    "def count_tuple_digits(row):\n",
    "    return sum([len(str(element)) for element in row])\n",
    "    shr2001 = [(32,14,65,723), (13,26),(12345,),(137,234,314)]\n",
    "    shr2001.sort(key =count_tuple_digits)\n",
    "    print(shr2001)"
   ]
  },
  {
   "cell_type": "code",
   "execution_count": null,
   "id": "ab128d17-c554-4d6b-afb3-04369461d167",
   "metadata": {},
   "outputs": [],
   "source": [
    "#16 element frequency in tuple from collections import defaultdict"
   ]
  },
  {
   "cell_type": "code",
   "execution_count": 42,
   "id": "55b74e03-5449-4f62-9945-e7a77f3baa8c",
   "metadata": {},
   "outputs": [
    {
     "ename": "NameError",
     "evalue": "name 'defaultdict' is not defined",
     "output_type": "error",
     "traceback": [
      "\u001b[1;31m---------------------------------------------------------------------------\u001b[0m",
      "\u001b[1;31mNameError\u001b[0m                                 Traceback (most recent call last)",
      "Cell \u001b[1;32mIn[42], line 3\u001b[0m\n\u001b[0;32m      1\u001b[0m \u001b[38;5;66;03m#16 element frequency in tuple from collections import defaultdict\u001b[39;00m\n\u001b[0;32m      2\u001b[0m shr2001 \u001b[38;5;241m=\u001b[39m (\u001b[38;5;241m4\u001b[39m,\u001b[38;5;241m5\u001b[39m,\u001b[38;5;241m4\u001b[39m,\u001b[38;5;241m5\u001b[39m,\u001b[38;5;241m6\u001b[39m,\u001b[38;5;241m6\u001b[39m,\u001b[38;5;241m5\u001b[39m,\u001b[38;5;241m5\u001b[39m,\u001b[38;5;241m4\u001b[39m)\n\u001b[1;32m----> 3\u001b[0m res \u001b[38;5;241m=\u001b[39m defaultdict(\u001b[38;5;28mint\u001b[39m)\n\u001b[0;32m      4\u001b[0m \u001b[38;5;28;01mfor\u001b[39;00m ele \u001b[38;5;129;01min\u001b[39;00m shr2001:\n\u001b[0;32m      5\u001b[0m     res[ele] \u001b[38;5;241m+\u001b[39m\u001b[38;5;241m=\u001b[39m\u001b[38;5;241m1\u001b[39m\n",
      "\u001b[1;31mNameError\u001b[0m: name 'defaultdict' is not defined"
     ]
    }
   ],
   "source": [
    "shr2001 = (4,5,4,5,6,6,5,5,4)\n",
    "res = defaultdict(int)\n",
    "for ele in shr2001:\n",
    "    res[ele] +=1\n",
    "    print(str(dict(res)))"
   ]
  },
  {
   "cell_type": "code",
   "execution_count": 39,
   "id": "1986628f-18f4-4d63-90e8-e3a9699f6a21",
   "metadata": {},
   "outputs": [
    {
     "name": "stdout",
     "output_type": "stream",
     "text": [
      "[(5, 6), (2, 3, 5), (5, 9)]\n"
     ]
    }
   ],
   "source": [
    "#17 filter range length tuple\n",
    "shr2001 = [(4, ),(5,6),(2,3,5),(5,6,8,2),(5,9)]\n",
    "i, j =2,3\n",
    "res = [sub for sub in shr2001 if len(sub) >=i and len(sub) <=j]\n",
    "print(str(res))"
   ]
  },
  {
   "cell_type": "code",
   "execution_count": 44,
   "id": "15b56bf5-402d-433a-80f1-1669c09970bd",
   "metadata": {},
   "outputs": [
    {
     "ename": "NameError",
     "evalue": "name 'counter' is not defined",
     "output_type": "error",
     "traceback": [
      "\u001b[1;31m---------------------------------------------------------------------------\u001b[0m",
      "\u001b[1;31mNameError\u001b[0m                                 Traceback (most recent call last)",
      "Cell \u001b[1;32mIn[44], line 3\u001b[0m\n\u001b[0;32m      1\u001b[0m \u001b[38;5;66;03m#18 assign frequency to tuples\u001b[39;00m\n\u001b[0;32m      2\u001b[0m shr2001 \u001b[38;5;241m=\u001b[39m [(\u001b[38;5;241m6\u001b[39m, \u001b[38;5;241m5\u001b[39m, \u001b[38;5;241m8\u001b[39m),(\u001b[38;5;241m2\u001b[39m, \u001b[38;5;241m7\u001b[39m),(\u001b[38;5;241m6\u001b[39m, \u001b[38;5;241m5\u001b[39m, \u001b[38;5;241m8\u001b[39m),(\u001b[38;5;241m6\u001b[39m, \u001b[38;5;241m5\u001b[39m, \u001b[38;5;241m8\u001b[39m),(\u001b[38;5;241m2\u001b[39m, \u001b[38;5;241m7\u001b[39m)]\n\u001b[1;32m----> 3\u001b[0m res \u001b[38;5;241m=\u001b[39m [(\u001b[38;5;241m*\u001b[39mkey, val) \u001b[38;5;28;01mfor\u001b[39;00m key, val \u001b[38;5;129;01min\u001b[39;00m counter(shr2001)\u001b[38;5;241m.\u001b[39mitems()]\n\u001b[0;32m      4\u001b[0m \u001b[38;5;28mprint\u001b[39m(\u001b[38;5;28mstr\u001b[39m(res))\n",
      "\u001b[1;31mNameError\u001b[0m: name 'counter' is not defined"
     ]
    }
   ],
   "source": [
    "#18 assign frequency to tuples\n",
    "shr2001 = [(6, 5, 8),(2, 7),(6, 5, 8),(6, 5, 8),(2, 7)]\n",
    "res = [(*key, val) for key, val in counter(shr2001).items()]\n",
    "print(str(res))"
   ]
  },
  {
   "cell_type": "code",
   "execution_count": 46,
   "id": "7af62999-b8ee-4d1f-9d37-b5d2690ef0d6",
   "metadata": {},
   "outputs": [
    {
     "name": "stdout",
     "output_type": "stream",
     "text": [
      "[(1, 3, 6)]\n",
      "[(1, 3, 6), (6, 3, 0)]\n"
     ]
    }
   ],
   "source": [
    "#19 records with value at k index\n",
    "shr2001 = [(3, 1, 5), (1, 3, 6),(2, 5, 7),(5, 2, 8),(6, 3, 0)]\n",
    "ele = 3\n",
    "k = 1\n",
    "res = []\n",
    "for x, y, z in shr2001:\n",
    "    if y ==ele:\n",
    "        res.append((x, y, z))\n",
    "        print(str(res))"
   ]
  },
  {
   "cell_type": "code",
   "execution_count": 47,
   "id": "42b9b891-5f81-4065-b990-7ee724389c60",
   "metadata": {},
   "outputs": [
    {
     "name": "stdout",
     "output_type": "stream",
     "text": [
      "True\n"
     ]
    }
   ],
   "source": [
    "#20 test if tuple is distinct\n",
    "shr2001 = (11, 14, 54,0, 58,41)\n",
    "my_result = len(set(shr2001)) == len(shr2001)\n",
    "print(my_result)"
   ]
  },
  {
   "cell_type": "code",
   "execution_count": 48,
   "id": "0a5f1a98-3637-4e66-9e96-209347e3789d",
   "metadata": {},
   "outputs": [
    {
     "name": "stdout",
     "output_type": "stream",
     "text": [
      "[(45, 90, 135)]\n"
     ]
    }
   ],
   "source": [
    "#21 python program to find tuples which have all elements divisible by r from a list of tuples\n",
    "shr2001 = [(45, 90, 135),(71, 92, 26),(2, 67, 98)]\n",
    "r = 5\n",
    "my_result = [sub for sub in shr2001 if all(ele %  r == 0 for ele in sub)]\n",
    "print(str(my_result))"
   ]
  },
  {
   "cell_type": "code",
   "execution_count": 49,
   "id": "60a9fa5e-c2f8-4b69-a97f-b93c6b6347e4",
   "metadata": {},
   "outputs": [
    {
     "name": "stdout",
     "output_type": "stream",
     "text": [
      "[(56, 43), (24, 56)]\n"
     ]
    }
   ],
   "source": [
    "#22 python program to find tuples with positive elements in list of  tuples\n",
    "shr2001 = [(56, 43), (-31, 21, 23),(51, -65, 26),(24, 56)]\n",
    "my_result = [sub for sub in shr2001 if all(elem >=0 for elem in sub)]\n",
    "print(my_result)"
   ]
  },
  {
   "cell_type": "code",
   "execution_count": 50,
   "id": "7264f3c2-a9af-4c8e-8121-50ec664274b9",
   "metadata": {},
   "outputs": [
    {
     "ename": "SyntaxError",
     "evalue": "unmatched ']' (3637314099.py, line 5)",
     "output_type": "error",
     "traceback": [
      "\u001b[1;36m  Cell \u001b[1;32mIn[50], line 5\u001b[1;36m\u001b[0m\n\u001b[1;33m    res[elem[0]]] +=1\u001b[0m\n\u001b[1;37m                ^\u001b[0m\n\u001b[1;31mSyntaxError\u001b[0m\u001b[1;31m:\u001b[0m unmatched ']'\n"
     ]
    }
   ],
   "source": [
    "#23 count tuples occurence in list  of tuples \n",
    "alist = [[('mon', 'wed')],[('mon')],[('tue')],[('mon', 'wed')] ]\n",
    "res = collections.defaultdict(int)\n",
    "for elem in atlist:\n",
    "    res[elem[0]]] +=1\n",
    "    print(res)"
   ]
  },
  {
   "cell_type": "code",
   "execution_count": 51,
   "id": "681000dc-5b13-435f-9927-1b9a988a79c6",
   "metadata": {},
   "outputs": [
    {
     "name": "stdout",
     "output_type": "stream",
     "text": [
      "[(33, 11), (11, 14), (0, 78)]\n"
     ]
    }
   ],
   "source": [
    "#24 removing duplicate from tuple\n",
    "shr2001 = [(11, 14),(0, 78),(33, 11),(0, 78)]\n",
    "my_unique_list = list(set([i for i in shr2001]))\n",
    "print(my_unique_list)"
   ]
  },
  {
   "cell_type": "code",
   "execution_count": 1,
   "id": "8dcc13de-8d4d-4134-ac49-3a91a7742479",
   "metadata": {},
   "outputs": [
    {
     "ename": "NameError",
     "evalue": "name 'elem' is not defined",
     "output_type": "error",
     "traceback": [
      "\u001b[1;31m---------------------------------------------------------------------------\u001b[0m",
      "\u001b[1;31mNameError\u001b[0m                                 Traceback (most recent call last)",
      "Cell \u001b[1;32mIn[1], line 4\u001b[0m\n\u001b[0;32m      2\u001b[0m shr2001\u001b[38;5;241m=\u001b[39m([\u001b[38;5;241m1\u001b[39m,\u001b[38;5;241m21\u001b[39m,\u001b[38;5;241m34\u001b[39m],[\u001b[38;5;241m11\u001b[39m,\u001b[38;5;241m0\u001b[39m,\u001b[38;5;241m89\u001b[39m],[\u001b[38;5;241m45\u001b[39m,\u001b[38;5;241m67\u001b[39m,\u001b[38;5;241m56\u001b[39m],[\u001b[38;5;241m11\u001b[39m,\u001b[38;5;241m0\u001b[39m,\u001b[38;5;241m89\u001b[39m])\n\u001b[0;32m      3\u001b[0m temp_val\u001b[38;5;241m=\u001b[39m\u001b[38;5;28mset\u001b[39m()\n\u001b[1;32m----> 4\u001b[0m my_result\u001b[38;5;241m=\u001b[39m[elem \u001b[38;5;28;01mfor\u001b[39;00m elm \u001b[38;5;129;01min\u001b[39;00m shr2001 \u001b[38;5;28;01mif\u001b[39;00m \u001b[38;5;129;01mnot\u001b[39;00m(\u001b[38;5;28mtuple\u001b[39m(elem) \u001b[38;5;129;01min\u001b[39;00m temp_val \u001b[38;5;129;01mor\u001b[39;00m temp_val\u001b[38;5;241m.\u001b[39madd(\u001b[38;5;28mtuple\u001b[39m(elem)))]\n\u001b[0;32m      5\u001b[0m \u001b[38;5;28mprint\u001b[39m(my_result)\n",
      "\u001b[1;31mNameError\u001b[0m: name 'elem' is not defined"
     ]
    }
   ],
   "source": [
    "#25 remove duplicate lists in tuples (preserving order)\n",
    "shr2001=([1,21,34],[11,0,89],[45,67,56],[11,0,89])\n",
    "temp_val=set()\n",
    "my_result=[elem for elm in shr2001 if not(tuple(elem) in temp_val or temp_val.add(tuple(elem)))]\n",
    "print(my_result)"
   ]
  },
  {
   "cell_type": "code",
   "execution_count": 3,
   "id": "2bb1440f-7dfb-4774-994b-a1c62065da1d",
   "metadata": {},
   "outputs": [
    {
     "name": "stderr",
     "output_type": "stream",
     "text": [
      "<>:2: SyntaxWarning: 'tuple' object is not callable; perhaps you missed a comma?\n",
      "<>:2: SyntaxWarning: 'tuple' object is not callable; perhaps you missed a comma?\n",
      "C:\\Users\\Harshita\\AppData\\Local\\Temp\\ipykernel_2804\\3512967582.py:2: SyntaxWarning: 'tuple' object is not callable; perhaps you missed a comma?\n",
      "  shr2001 = [(67, 2),(34, 65)(212, 23),(17, 67),(18, )]\n"
     ]
    },
    {
     "ename": "TypeError",
     "evalue": "'tuple' object is not callable",
     "output_type": "error",
     "traceback": [
      "\u001b[1;31m---------------------------------------------------------------------------\u001b[0m",
      "\u001b[1;31mTypeError\u001b[0m                                 Traceback (most recent call last)",
      "Cell \u001b[1;32mIn[3], line 2\u001b[0m\n\u001b[0;32m      1\u001b[0m \u001b[38;5;66;03m#26 extract digits from tuple list\u001b[39;00m\n\u001b[1;32m----> 2\u001b[0m shr2001 \u001b[38;5;241m=\u001b[39m [(\u001b[38;5;241m67\u001b[39m, \u001b[38;5;241m2\u001b[39m),(\u001b[38;5;241m34\u001b[39m, \u001b[38;5;241m65\u001b[39m)(\u001b[38;5;241m212\u001b[39m, \u001b[38;5;241m23\u001b[39m),(\u001b[38;5;241m17\u001b[39m, \u001b[38;5;241m67\u001b[39m),(\u001b[38;5;241m18\u001b[39m, )]\n\u001b[0;32m      3\u001b[0m n\u001b[38;5;241m=\u001b[39m\u001b[38;5;241m2\u001b[39m\n\u001b[0;32m      4\u001b[0m my_result\u001b[38;5;241m=\u001b[39m[sub \u001b[38;5;28;01mfor\u001b[39;00m sub \u001b[38;5;129;01min\u001b[39;00m shr2001 \u001b[38;5;28;01mif\u001b[39;00m \u001b[38;5;28mall\u001b[39m(\u001b[38;5;28mlen\u001b[39m(\u001b[38;5;28mstr\u001b[39m(ele)) \u001b[38;5;241m==\u001b[39m n \u001b[38;5;28;01mfor\u001b[39;00m ele \u001b[38;5;129;01min\u001b[39;00m sub)]\n",
      "\u001b[1;31mTypeError\u001b[0m: 'tuple' object is not callable"
     ]
    }
   ],
   "source": [
    " #26 extract digits from tuple list\n",
    "shr2001 = [(67, 2),(34, 65)(212, 23),(17, 67),(18, )]\n",
    "n=2\n",
    "my_result=[sub for sub in shr2001 if all(len(str(ele)) == n for ele in sub)]\n",
    "print(my_result)"
   ]
  },
  {
   "cell_type": "code",
   "execution_count": 4,
   "id": "cbee1c28-1e72-42a0-8dff-cc98dc54df33",
   "metadata": {},
   "outputs": [
    {
     "name": "stdout",
     "output_type": "stream",
     "text": [
      "[('name', 'AAFT')]\n"
     ]
    }
   ],
   "source": [
    "#27 cross pairing in tuple list\n",
    "shr2001=[('my', 'name'),('is','data'),('hello','come'),('goodwill','jill')]\n",
    "shr2002=[('my', 'AAFT'),('IS', 'science'),('hello', 'here'),('a', 'b')]\n",
    "shr2001.sort()\n",
    "shr2002.sort()\n",
    "my_result =[(a[1], b[1]) for a, b in zip(shr2001, shr2002)if a[0] ==b[0]]\n",
    "print(my_result)"
   ]
  },
  {
   "cell_type": "code",
   "execution_count": 5,
   "id": "d3f48f6c-be4a-4776-8d86-6e32c6bf93c2",
   "metadata": {},
   "outputs": [
    {
     "ename": "NameError",
     "evalue": "name 'idix' is not defined",
     "output_type": "error",
     "traceback": [
      "\u001b[1;31m---------------------------------------------------------------------------\u001b[0m",
      "\u001b[1;31mNameError\u001b[0m                                 Traceback (most recent call last)",
      "Cell \u001b[1;32mIn[5], line 6\u001b[0m\n\u001b[0;32m      4\u001b[0m res\u001b[38;5;241m=\u001b[39m[] \n\u001b[0;32m      5\u001b[0m \u001b[38;5;28;01mfor\u001b[39;00m idx \u001b[38;5;129;01min\u001b[39;00m \u001b[38;5;28mrange\u001b[39m(\u001b[38;5;241m0\u001b[39m,\u001b[38;5;28mlen\u001b[39m(shr2001) \u001b[38;5;241m-\u001b[39m\u001b[38;5;241m1\u001b[39m):\n\u001b[1;32m----> 6\u001b[0m     res\u001b[38;5;241m.\u001b[39mappend(\u001b[38;5;28mabs\u001b[39m(shr2001[idx][k] \u001b[38;5;241m-\u001b[39m shr2001[idix \u001b[38;5;241m+\u001b[39m \u001b[38;5;241m1\u001b[39m][k]))\n\u001b[0;32m      7\u001b[0m     \u001b[38;5;28mprint\u001b[39m(\u001b[38;5;28mstr\u001b[39m(res))\n",
      "\u001b[1;31mNameError\u001b[0m: name 'idix' is not defined"
     ]
    }
   ],
   "source": [
    "#28. consecutive kth column difference in tuple list\n",
    "shr2001=[(5, 4, 2),(1, 3, 4),(5, 7, 8),(7, 4, 3)]\n",
    "k=1\n",
    "res=[] \n",
    "for idx in range(0,len(shr2001) -1):\n",
    "    res.append(abs(shr2001[idx][k] - shr2001[idix + 1][k]))\n",
    "    print(str(res))"
   ]
  },
  {
   "cell_type": "code",
   "execution_count": 7,
   "id": "f0687946-7804-4d44-8ef3-53f8fc20bdbf",
   "metadata": {},
   "outputs": [],
   "source": [
    "#29 kth column product in tuple list\n",
    "def prod_compute(my_val) :\n",
    "    my_result = 1\n",
    "    for elem in my_val:\n",
    "        my_result *= elem\n",
    "        return my_result\n",
    "        shr2001=[(51, 62, 75),(18,39, 25),(81,19,99)]\n",
    "        k=2\n",
    "        my_result = prod_computer([sub[k] for sub in shr2001])\n",
    "        print(my_result)"
   ]
  },
  {
   "cell_type": "code",
   "execution_count": 8,
   "id": "99aa25c2-dc13-4c59-aeb1-8dcc10413b7d",
   "metadata": {},
   "outputs": [
    {
     "name": "stdout",
     "output_type": "stream",
     "text": [
      "(5, 6, 6, 7, 8, 9, 3)\n"
     ]
    }
   ],
   "source": [
    "#30 flatten tuple of list to tuple \n",
    "shr2001 = ([5,6],[6,7,8,9],[3])\n",
    "res = tuple(sum(shr2001,[]))\n",
    "print(str(res))"
   ]
  },
  {
   "cell_type": "code",
   "execution_count": 9,
   "id": "517e000c-a514-4811-b322-6b8dfaaee151",
   "metadata": {},
   "outputs": [
    {
     "name": "stdout",
     "output_type": "stream",
     "text": [
      "(11, 14), (54, 56), (98, 0), (13, 76)\n"
     ]
    }
   ],
   "source": [
    "#31 flatten tuples list to string\n",
    "shr2001 = [(11, 14),(54, 56),(98, 0),(13, 76)]\n",
    "my_result = str(shr2001).strip('[]')\n",
    "print(my_result)"
   ]
  },
  {
   "cell_type": "code",
   "execution_count": 11,
   "id": "9705f591-7fc0-4c23-b549-001b612a48cb",
   "metadata": {},
   "outputs": [],
   "source": [
    "#32 python program to sort a llist of tuples alphabetically\n",
    "def sort_tuple_vals(shr2001):\n",
    "    shr2001.sort(key = lambda x:x[0])\n",
    "    return shr2001\n",
    "    shr2001=[(\"hey\",18),(\"jane\",33),(\"will\",56),(\"nysa\",35),(\"may\",\"pink\")]\n",
    "    print(sort_tuple_vals(shr2001))"
   ]
  },
  {
   "cell_type": "code",
   "execution_count": 12,
   "id": "0dc735b2-0172-4c4f-8466-86d5c8e66c0a",
   "metadata": {},
   "outputs": [
    {
     "ename": "NameError",
     "evalue": "name 'combinations' is not defined",
     "output_type": "error",
     "traceback": [
      "\u001b[1;31m---------------------------------------------------------------------------\u001b[0m",
      "\u001b[1;31mNameError\u001b[0m                                 Traceback (most recent call last)",
      "Cell \u001b[1;32mIn[12], line 3\u001b[0m\n\u001b[0;32m      1\u001b[0m \u001b[38;5;66;03m#33 combination of sum with tuples in tuple list\u001b[39;00m\n\u001b[0;32m      2\u001b[0m shr2001 \u001b[38;5;241m=\u001b[39m [(\u001b[38;5;241m67\u001b[39m,\u001b[38;5;241m45\u001b[39m),(\u001b[38;5;241m34\u001b[39m,\u001b[38;5;241m56\u001b[39m),(\u001b[38;5;241m99\u001b[39m,\u001b[38;5;241m123\u001b[39m),(\u001b[38;5;241m10\u001b[39m,\u001b[38;5;241m56\u001b[39m)]\n\u001b[1;32m----> 3\u001b[0m res \u001b[38;5;241m=\u001b[39m[(b1 \u001b[38;5;241m+\u001b[39m a1,b2 \u001b[38;5;241m+\u001b[39m a2) \u001b[38;5;28;01mfor\u001b[39;00m (a1,a2),(b1,b2) \u001b[38;5;129;01min\u001b[39;00m combinations (shr2001,\u001b[38;5;241m2\u001b[39m)]\n",
      "\u001b[1;31mNameError\u001b[0m: name 'combinations' is not defined"
     ]
    }
   ],
   "source": [
    "#33 combination of sum with tuples in tuple list\n",
    "shr2001 = [(67,45),(34,56),(99,123),(10,56)]\n",
    "res =[(b1 + a1,b2 + a2) for (a1,a2),(b1,b2) in combinations (shr2001,2)]"
   ]
  },
  {
   "cell_type": "code",
   "execution_count": null,
   "id": "7b8c4e7c-1074-434e-b14f-c8d78d3479f9",
   "metadata": {},
   "outputs": [],
   "source": [
    "#34 customs sorting in list of tuples\n",
    "def tuple_sort(shr2001):\n",
    "    shr2001.sort(key = lambda x: x[1])\n",
    "    return shr2001\n",
    "    shr2001 = [('will',100),('john',67),('harold',86),('jane',35)]\n",
    "    print("
   ]
  }
 ],
 "metadata": {
  "kernelspec": {
   "display_name": "Python 3 (ipykernel)",
   "language": "python",
   "name": "python3"
  },
  "language_info": {
   "codemirror_mode": {
    "name": "ipython",
    "version": 3
   },
   "file_extension": ".py",
   "mimetype": "text/x-python",
   "name": "python",
   "nbconvert_exporter": "python",
   "pygments_lexer": "ipython3",
   "version": "3.12.4"
  }
 },
 "nbformat": 4,
 "nbformat_minor": 5
}
