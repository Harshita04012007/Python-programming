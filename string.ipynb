{
 "cells": [
  {
   "cell_type": "raw",
   "id": "ebe67e48-7123-4dba-9cb1-84f35a426a6b",
   "metadata": {},
   "source": [
    "print(\"hello world\")\n"
   ]
  },
  {
   "cell_type": "code",
   "execution_count": 1,
   "id": "eac6f1d3-8274-4288-8006-4b1c19493131",
   "metadata": {},
   "outputs": [],
   "source": [
    "# python does not have a character data type,a single character is simply with alength of 1.\n",
    "#square brackets can be used to access element of the string."
   ]
  },
  {
   "cell_type": "code",
   "execution_count": 2,
   "id": "16716496-b922-40a8-9e3c-0bcb176d2238",
   "metadata": {},
   "outputs": [
    {
     "name": "stdout",
     "output_type": "stream",
     "text": [
      "11\n"
     ]
    }
   ],
   "source": [
    "a='hello world'\n",
    "print(len(a))"
   ]
  },
  {
   "cell_type": "code",
   "execution_count": 3,
   "id": "953dff2e-c6f2-4838-9736-c617994eef80",
   "metadata": {},
   "outputs": [
    {
     "name": "stdout",
     "output_type": "stream",
     "text": [
      "llo\n"
     ]
    }
   ],
   "source": [
    "b='hello world'\n",
    "print(b[2:5])"
   ]
  },
  {
   "cell_type": "code",
   "execution_count": 4,
   "id": "f7dd7377-2260-4209-8470-6b8078a62f51",
   "metadata": {},
   "outputs": [
    {
     "name": "stdout",
     "output_type": "stream",
     "text": [
      "hello\n"
     ]
    }
   ],
   "source": [
    "b=\"hello,world!\"\n",
    "print(b[:5])"
   ]
  },
  {
   "cell_type": "code",
   "execution_count": 6,
   "id": "92956c9e-1e5e-407c-9399-b7862835401c",
   "metadata": {},
   "outputs": [
    {
     "name": "stdout",
     "output_type": "stream",
     "text": [
      "orl\n"
     ]
    }
   ],
   "source": [
    "b=\"hello,world!\"\n",
    "print(b[-5:-2])"
   ]
  },
  {
   "cell_type": "code",
   "execution_count": 7,
   "id": "b43b75c6-d173-457e-9f13-a23af72ca320",
   "metadata": {},
   "outputs": [],
   "source": [
    "# modify strings\n",
    "# python has a set of built-in method that you can use on strings."
   ]
  },
  {
   "cell_type": "code",
   "execution_count": 8,
   "id": "e3f340b8-0742-481b-a6d9-f0bbecd67cc1",
   "metadata": {},
   "outputs": [
    {
     "name": "stdout",
     "output_type": "stream",
     "text": [
      "hello,world!\n"
     ]
    }
   ],
   "source": [
    "a=\"hello,world!\"\n",
    "print(a.lower())"
   ]
  },
  {
   "cell_type": "code",
   "execution_count": 9,
   "id": "5e3e1362-f51a-4639-9cec-a62e36ade2ca",
   "metadata": {},
   "outputs": [
    {
     "name": "stdout",
     "output_type": "stream",
     "text": [
      "HELLO,WORLD!\n"
     ]
    }
   ],
   "source": [
    "a=\"hello,world!\"\n",
    "print(a.upper())"
   ]
  },
  {
   "cell_type": "code",
   "execution_count": 11,
   "id": "edc68429-1ebf-4387-8782-27c2cb325316",
   "metadata": {},
   "outputs": [
    {
     "name": "stdout",
     "output_type": "stream",
     "text": [
      "hello,world!\n"
     ]
    }
   ],
   "source": [
    "a=\"hello,world!\"\n",
    "print(a.strip()) #return \"hello,"
   ]
  },
  {
   "cell_type": "code",
   "execution_count": 12,
   "id": "034271d6-b8c1-4459-b9ae-c2c52b43c916",
   "metadata": {},
   "outputs": [],
   "source": [
    "# string concatenation\n",
    "# to concatenate ,or combine ,two strings you can use the +operator\n"
   ]
  },
  {
   "cell_type": "code",
   "execution_count": 13,
   "id": "2f5f930f-4ad8-49bf-8110-6aa505dd30c7",
   "metadata": {},
   "outputs": [
    {
     "name": "stdout",
     "output_type": "stream",
     "text": [
      "helloworld\n"
     ]
    }
   ],
   "source": [
    "a=\"hello\"\n",
    "b=\"world\"\n",
    "c=a+b\n",
    "print(c)"
   ]
  },
  {
   "cell_type": "code",
   "execution_count": 16,
   "id": "4527ffaa-9153-45d9-9ee0-1c8ea97f7db4",
   "metadata": {},
   "outputs": [
    {
     "name": "stdout",
     "output_type": "stream",
     "text": [
      "hello world\n"
     ]
    }
   ],
   "source": [
    "a=\"hello\"\n",
    "b=\"world\"\n",
    "c=a+ \" \"+b\n",
    "print(c)"
   ]
  },
  {
   "cell_type": "code",
   "execution_count": 17,
   "id": "32bfb844-c22c-4944-a812-d9e988073abc",
   "metadata": {},
   "outputs": [],
   "source": [
    "# format-strings"
   ]
  },
  {
   "cell_type": "code",
   "execution_count": 18,
   "id": "9094106d-0d54-4cf0-8345-9baa43787d52",
   "metadata": {},
   "outputs": [
    {
     "ename": "TypeError",
     "evalue": "can only concatenate str (not \"int\") to str",
     "output_type": "error",
     "traceback": [
      "\u001b[1;31m---------------------------------------------------------------------------\u001b[0m",
      "\u001b[1;31mTypeError\u001b[0m                                 Traceback (most recent call last)",
      "Cell \u001b[1;32mIn[18], line 3\u001b[0m\n\u001b[0;32m      1\u001b[0m \u001b[38;5;66;03m# we cannot combine strings and numbers like this:\u001b[39;00m\n\u001b[0;32m      2\u001b[0m age\u001b[38;5;241m=\u001b[39m\u001b[38;5;241m36\u001b[39m\n\u001b[1;32m----> 3\u001b[0m txt\u001b[38;5;241m=\u001b[39m\u001b[38;5;124m\"\u001b[39m\u001b[38;5;124mmy name is john,i am \u001b[39m\u001b[38;5;124m\"\u001b[39m\u001b[38;5;241m+\u001b[39mage\n\u001b[0;32m      4\u001b[0m \u001b[38;5;28mprint\u001b[39m(txt)\n",
      "\u001b[1;31mTypeError\u001b[0m: can only concatenate str (not \"int\") to str"
     ]
    }
   ],
   "source": [
    "# we cannot combine strings and numbers like this:\n",
    "age=36\n",
    "txt=\"my name is john,i am \"+age\n",
    "print(txt)"
   ]
  },
  {
   "cell_type": "code",
   "execution_count": 19,
   "id": "52fdfaa6-2c0e-43e5-9c15-7aeff5f71d37",
   "metadata": {},
   "outputs": [
    {
     "name": "stdout",
     "output_type": "stream",
     "text": [
      "my name is john,i am 36 \n"
     ]
    }
   ],
   "source": [
    "# we cannot combine strings and numbers by using the format method()\n",
    "age=36\n",
    "txt=\"my name is john,i am {} \"\n",
    "print(txt.format(age))"
   ]
  },
  {
   "cell_type": "code",
   "execution_count": 22,
   "id": "a56aea8a-52f3-4f08-b74c-d2d3c1e3af4f",
   "metadata": {},
   "outputs": [
    {
     "name": "stdout",
     "output_type": "stream",
     "text": [
      "i want 3 pieces of items 567 for49.95 dollars.\n"
     ]
    }
   ],
   "source": [
    "# the format method () takes unlimited numbers  of arguments, and are placed into the respective placeholders:\n",
    "quantity=3\n",
    "itemno=567\n",
    "price=49.95\n",
    "myorder=\"i want {} pieces of items {} for{} dollars.\"\n",
    "print(myorder.format(quantity,itemno,price))"
   ]
  },
  {
   "cell_type": "code",
   "execution_count": 23,
   "id": "ed858cad-813c-4497-9615-a786e4215599",
   "metadata": {},
   "outputs": [],
   "source": [
    "#escape character\n",
    "# to insert characters that are illegal in a string,use  an escape character.\n",
    "# an escape character is a backlash\\followed by the character you want to insert.\n"
   ]
  },
  {
   "cell_type": "code",
   "execution_count": 26,
   "id": "7e5a54ab-fcbe-44a7-a56e-5632ff76d0ba",
   "metadata": {},
   "outputs": [
    {
     "name": "stdout",
     "output_type": "stream",
     "text": [
      "we are the so-called\"vikings from the north.\n"
     ]
    }
   ],
   "source": [
    "# the escape character allows you to use double quotes when you normally would not be allowed:\n",
    "\n",
    "txt=\"we are the so-called\\\"vikings from the north.\"\n",
    "print(txt)"
   ]
  },
  {
   "cell_type": "code",
   "execution_count": 27,
   "id": "bc442c85-86af-4e4f-9d0a-5b5bf9c4da52",
   "metadata": {},
   "outputs": [],
   "source": [
    "#capitalize method\n"
   ]
  },
  {
   "cell_type": "code",
   "execution_count": 28,
   "id": "3e7a7d9c-fe7a-4944-aee6-1f2cc925b85d",
   "metadata": {},
   "outputs": [
    {
     "name": "stdout",
     "output_type": "stream",
     "text": [
      "We are the so-called\"vikings from the north.\n"
     ]
    }
   ],
   "source": [
    "text=\"hello, and welcome to my world,\"\n",
    "x=txt.capitalize()\n",
    "print(x)"
   ]
  },
  {
   "cell_type": "code",
   "execution_count": 29,
   "id": "87fe197d-29ec-4633-a3b4-b7c5208ab031",
   "metadata": {},
   "outputs": [],
   "source": [
    "# title()method\n"
   ]
  },
  {
   "cell_type": "code",
   "execution_count": 30,
   "id": "cbefa42c-d138-4176-af6e-a7147bf0a59c",
   "metadata": {},
   "outputs": [
    {
     "name": "stdout",
     "output_type": "stream",
     "text": [
      "Welcome To My World\n"
     ]
    }
   ],
   "source": [
    "# the first character is converted to upper case, and the rest are converted to lower case:\n",
    "txt=\"welcome to my world\"\n",
    "x=txt.title()\n",
    "print(x)"
   ]
  },
  {
   "cell_type": "code",
   "execution_count": 31,
   "id": "4d784c5e-2ac5-4228-b3c8-8f0dd7746b89",
   "metadata": {},
   "outputs": [],
   "source": [
    "# count() method"
   ]
  },
  {
   "cell_type": "code",
   "execution_count": 32,
   "id": "d630e77a-e818-499f-9887-fa5eef0122ed",
   "metadata": {},
   "outputs": [],
   "source": [
    "# the count() method return the number of times a specified value appears in the string.\n"
   ]
  },
  {
   "cell_type": "code",
   "execution_count": 35,
   "id": "1398cb23-a83d-486e-bd51-b01615fd7ffb",
   "metadata": {},
   "outputs": [
    {
     "name": "stdout",
     "output_type": "stream",
     "text": [
      "2\n"
     ]
    }
   ],
   "source": [
    "txt=\"i love apples,apple are my favourite fruit\"\n",
    "x=txt.count(\"apple\")\n",
    "print(x)"
   ]
  },
  {
   "cell_type": "code",
   "execution_count": 36,
   "id": "11d4fb15-ea9b-4b55-a39a-ab4e94b24a19",
   "metadata": {},
   "outputs": [],
   "source": [
    "#string.count (value,start,end)\n",
    "#search from position 10 to 24"
   ]
  },
  {
   "cell_type": "code",
   "execution_count": 37,
   "id": "fe2b9c1b-31a9-4082-b17b-1d87d1b40a5a",
   "metadata": {},
   "outputs": [
    {
     "name": "stdout",
     "output_type": "stream",
     "text": [
      "1\n"
     ]
    }
   ],
   "source": [
    "txt=\"i love apples,apple are my favourite fruit\"\n",
    "x=txt.count(\"apple\",10,24)\n",
    "print(x)"
   ]
  },
  {
   "cell_type": "code",
   "execution_count": 38,
   "id": "87eeef18-98be-4ba4-9900-1d7ff63c7c5e",
   "metadata": {},
   "outputs": [],
   "source": [
    "# find method()\n"
   ]
  },
  {
   "cell_type": "code",
   "execution_count": 45,
   "id": "cac0ddb3-049d-48b5-8449-3c13c0359455",
   "metadata": {},
   "outputs": [
    {
     "name": "stdout",
     "output_type": "stream",
     "text": [
      "7\n"
     ]
    }
   ],
   "source": [
    "# where in the text is the world \"welcome\"?\n",
    "txt=\"hello, welcome to my world\"\n",
    "x=txt.find(\"welcome\")\n",
    "print(x)"
   ]
  },
  {
   "cell_type": "code",
   "execution_count": 46,
   "id": "a8aa035e-83d8-4987-8f92-a094c5c28ae0",
   "metadata": {},
   "outputs": [],
   "source": [
    "# the find()method find the first occurence of the specified value.\n",
    "# the find() method return-1 if the value is not found.\n",
    "# the find() method is almost the same  as the index() method, the only difference is that the index() method raises an exception if the value is not found"
   ]
  },
  {
   "cell_type": "code",
   "execution_count": 48,
   "id": "f707a390-1c10-4f51-add5-3f87abb84c9b",
   "metadata": {},
   "outputs": [
    {
     "name": "stdout",
     "output_type": "stream",
     "text": [
      "1\n"
     ]
    }
   ],
   "source": [
    "txt=\"hello,welcome to my world\"\n",
    "x=txt.find(\"e\")\n",
    "print(x)"
   ]
  },
  {
   "cell_type": "code",
   "execution_count": 50,
   "id": "3a41005f-94bf-46bd-8bf7-067ecc635549",
   "metadata": {},
   "outputs": [
    {
     "name": "stdout",
     "output_type": "stream",
     "text": [
      "8\n"
     ]
    }
   ],
   "source": [
    "# text is the first occurence of the letter \"e\" when you only search between position 5 and 10?\n",
    "txt=\"hello, welcome to my world\"\n",
    "x=txt.find(\"e\",5,10)\n",
    "print(x)"
   ]
  },
  {
   "cell_type": "code",
   "execution_count": 51,
   "id": "96c1cbc8-fb46-4b5b-9f8b-3f2bb15bab09",
   "metadata": {},
   "outputs": [],
   "source": [
    "# index method()"
   ]
  },
  {
   "cell_type": "code",
   "execution_count": 54,
   "id": "2c7dd205-7c90-44c3-97ba-e3e381d13a4a",
   "metadata": {},
   "outputs": [
    {
     "name": "stdout",
     "output_type": "stream",
     "text": [
      "7\n"
     ]
    }
   ],
   "source": [
    "txt=\"hello, welcome to  my world\"\n",
    "x=txt.index(\"welcome\")\n",
    "print(x)"
   ]
  },
  {
   "cell_type": "code",
   "execution_count": 55,
   "id": "4e00b676-774c-49bc-89d8-e07199cc4ed1",
   "metadata": {},
   "outputs": [],
   "source": [
    "# the index() method find the first occurence of the specified value.\n",
    "# the index() method raises an exception if the  value is not found.\n",
    "# the index() method is almost the same as the find() method,the only difference is that the find method returns-1 if the value is not found."
   ]
  },
  {
   "cell_type": "code",
   "execution_count": 56,
   "id": "076c7adf-7482-4a44-80fa-afba2e679da5",
   "metadata": {},
   "outputs": [
    {
     "name": "stdout",
     "output_type": "stream",
     "text": [
      "1\n"
     ]
    }
   ],
   "source": [
    "# where in the txt ix the first occurenceof the letter\"e\"?\n",
    "txt=\"hello,welcome to my world\"\n",
    "x=txt.index(\"e\")\n",
    "print(x)"
   ]
  },
  {
   "cell_type": "code",
   "execution_count": 57,
   "id": "02e535e1-983a-485f-8546-0efdf3cb9e27",
   "metadata": {},
   "outputs": [],
   "source": [
    "# isalnum() method\n"
   ]
  },
  {
   "cell_type": "code",
   "execution_count": 58,
   "id": "0c1f0d8b-39c2-464f-ac4b-9f33bced8a5b",
   "metadata": {},
   "outputs": [
    {
     "name": "stdout",
     "output_type": "stream",
     "text": [
      "True\n"
     ]
    }
   ],
   "source": [
    "# check if all the chqracters in the text are alphanumeric:\n",
    "# the isalnum () method returns true all the characters are alphanumeric,meaning alphabet letter (a-z) and numbers(0-9).\n",
    "# example of characters that are not alphanumeric:(space)!#%&?etc.\n",
    "txt=\"company12\"\n",
    "\n",
    "x=txt.isalnum()\n",
    "print(x)"
   ]
  },
  {
   "cell_type": "code",
   "execution_count": 59,
   "id": "0970f456-d103-423c-81f1-e8eea32d56cf",
   "metadata": {},
   "outputs": [],
   "source": [
    "#isalpha() method\n",
    "#isalpha() method returns trueif all the character are alphabet letters (a-z).\n",
    "#example of characters that are not alphabet letters :(space)!#%&?etc."
   ]
  },
  {
   "cell_type": "code",
   "execution_count": 60,
   "id": "9e197921-90e4-4549-8e69-8dbe620f1075",
   "metadata": {},
   "outputs": [
    {
     "name": "stdout",
     "output_type": "stream",
     "text": [
      "True\n"
     ]
    }
   ],
   "source": [
    "#check if all the characters in the txt are letters:\n",
    "txt=\"companyx\"\n",
    "print(x)"
   ]
  },
  {
   "cell_type": "code",
   "execution_count": 61,
   "id": "ff116274-8e79-4290-9d26-259120fc99bc",
   "metadata": {},
   "outputs": [],
   "source": [
    "#startswith() method"
   ]
  },
  {
   "cell_type": "code",
   "execution_count": 71,
   "id": "01a4e9a8-6910-4e82-99c2-105c4321ff27",
   "metadata": {},
   "outputs": [
    {
     "name": "stdout",
     "output_type": "stream",
     "text": [
      "True\n"
     ]
    }
   ],
   "source": [
    "# check if the string starts with \"hello\":\n",
    "txt=\"hello, welcome to my world.\"\n",
    "x=txt.startswith(\"hello\")\n",
    "print(x)"
   ]
  },
  {
   "cell_type": "code",
   "execution_count": 63,
   "id": "3350e094-8b17-4343-8074-64c76763bfb0",
   "metadata": {},
   "outputs": [],
   "source": [
    "# the startswith() method returns true if the strinng start with the specified value,otherwise false."
   ]
  },
  {
   "cell_type": "code",
   "execution_count": 70,
   "id": "6dac89f6-3bac-493f-a035-47cf77245c01",
   "metadata": {},
   "outputs": [
    {
     "name": "stdout",
     "output_type": "stream",
     "text": [
      "True\n"
     ]
    }
   ],
   "source": [
    "txt=\"hello, welcome to my world.\"\n",
    "x=txt.startswith(\"wel\",7,20)\n",
    "print(x)"
   ]
  },
  {
   "cell_type": "code",
   "execution_count": 66,
   "id": "bfa3f033-6d9a-4262-b4fc-b64a9f97f7b3",
   "metadata": {},
   "outputs": [],
   "source": [
    "#endswith method"
   ]
  },
  {
   "cell_type": "code",
   "execution_count": 69,
   "id": "2a894db1-735b-4fa4-8bb2-33fad999a9f4",
   "metadata": {},
   "outputs": [
    {
     "name": "stdout",
     "output_type": "stream",
     "text": [
      "True\n"
     ]
    }
   ],
   "source": [
    "#check if the string ends with a punctuation sign(.):\n",
    "txt=\"hello, welcome to my world.\"\n",
    "x=txt.endswith(\".\")\n",
    "print(x)"
   ]
  },
  {
   "cell_type": "code",
   "execution_count": 72,
   "id": "549ec239-6015-4436-99e7-b58c755385fe",
   "metadata": {},
   "outputs": [],
   "source": [
    "#isdigit method"
   ]
  },
  {
   "cell_type": "code",
   "execution_count": 73,
   "id": "c06031c9-924a-4a5e-9a4c-5cbcc4c1979a",
   "metadata": {},
   "outputs": [
    {
     "name": "stdout",
     "output_type": "stream",
     "text": [
      "True\n"
     ]
    }
   ],
   "source": [
    "#check if all the characters in the text are digits:\n",
    "txt=\"50800\"\n",
    "x=txt.isdigit()\n",
    "print(x)"
   ]
  },
  {
   "cell_type": "code",
   "execution_count": 74,
   "id": "5da88641-5ac2-47b5-af6b-bd344990489f",
   "metadata": {},
   "outputs": [],
   "source": [
    "#islower() method\n"
   ]
  },
  {
   "cell_type": "code",
   "execution_count": 76,
   "id": "52dc6d1c-8537-4a07-90ed-d16f39504412",
   "metadata": {},
   "outputs": [
    {
     "name": "stdout",
     "output_type": "stream",
     "text": [
      "True\n"
     ]
    }
   ],
   "source": [
    "#check if all the characters in the text are in lower case:\n",
    "txt=\"hello world!\"\n",
    "x=txt.islower()\n",
    "print(x)"
   ]
  },
  {
   "cell_type": "code",
   "execution_count": 77,
   "id": "567d8e1c-fac5-4005-bdb3-3cfaec133c9a",
   "metadata": {},
   "outputs": [],
   "source": [
    "#isupper () method"
   ]
  },
  {
   "cell_type": "code",
   "execution_count": 86,
   "id": "1a0c32e0-fa71-43f8-aa3b-7949b3d8d4f3",
   "metadata": {},
   "outputs": [
    {
     "name": "stdout",
     "output_type": "stream",
     "text": [
      "False\n"
     ]
    }
   ],
   "source": [
    "#check if all the characters in the text are in upper case:\n",
    "txt= \"This is now!\"\n",
    "x= txt.isupper ()\n",
    "print(x)"
   ]
  },
  {
   "cell_type": "code",
   "execution_count": 87,
   "id": "a8efb0e5-08ea-4a79-91ca-0dc7bde3643c",
   "metadata": {},
   "outputs": [],
   "source": [
    "#lstrip() method"
   ]
  },
  {
   "cell_type": "code",
   "execution_count": 88,
   "id": "0fe50250-f289-4f3c-8f17-efd5ae1b0aa8",
   "metadata": {},
   "outputs": [
    {
     "name": "stdout",
     "output_type": "stream",
     "text": [
      "of all fruit  banana     is my favourite\n"
     ]
    }
   ],
   "source": [
    "#remove spaces to the  left of the string:\n",
    "txt=\"     banana    \"\n",
    "x=txt.lstrip()\n",
    "print(\"of all fruit \",x,\"is my favourite\")"
   ]
  },
  {
   "cell_type": "code",
   "execution_count": 89,
   "id": "2a9edb57-8c03-44d7-b971-daf24ebb1045",
   "metadata": {},
   "outputs": [
    {
     "name": "stdout",
     "output_type": "stream",
     "text": [
      "of all fruits       banana is my favorite\n"
     ]
    }
   ],
   "source": [
    "#rstrip() method\n",
    "# remove any white spaces at the end of the string\n",
    "txt=\"      banana   \"\n",
    "x=txt.rstrip()\n",
    "print(\"of all fruits\",x,\"is my favorite\")"
   ]
  },
  {
   "cell_type": "code",
   "execution_count": 90,
   "id": "bcffdf74-65c0-47fd-a184-2457391c7736",
   "metadata": {},
   "outputs": [],
   "source": [
    "#strip()method\n",
    "#the strip() method removes any leading,and trailing whitespaces.\n",
    "# leading means at the begining of the string,trailing means at the end.\n",
    "#you can specify which character(s) to remove,if not,any whitespaces will be removed."
   ]
  },
  {
   "cell_type": "code",
   "execution_count": 91,
   "id": "a0c804ff-6b40-47a5-bfd8-fbbfe4e05069",
   "metadata": {},
   "outputs": [
    {
     "name": "stdout",
     "output_type": "stream",
     "text": [
      "of all fruits banana is my favourite \n"
     ]
    }
   ],
   "source": [
    "#removes spaces at the beginingand at the end of the string:\n",
    "txt=\"    banana     \"\n",
    "x=txt.strip()\n",
    "print(\"of all fruits\",x,\"is my favourite \")\n"
   ]
  },
  {
   "cell_type": "code",
   "execution_count": 92,
   "id": "2beaf815-5bfd-46e9-b6f7-017ca4a81532",
   "metadata": {},
   "outputs": [],
   "source": [
    "#isspace() method\n",
    "#the isspace() method return true if all the characters in a string are whitespaces,otherwise false."
   ]
  },
  {
   "cell_type": "code",
   "execution_count": 93,
   "id": "17131ceb-5461-43e7-a8c4-64158004c272",
   "metadata": {},
   "outputs": [
    {
     "name": "stdout",
     "output_type": "stream",
     "text": [
      "True\n"
     ]
    }
   ],
   "source": [
    "#check if all the characters in the text are whitespaces:\n",
    "txt=\"    \"\n",
    "x= txt.isspace()\n",
    "print(x)"
   ]
  },
  {
   "cell_type": "code",
   "execution_count": 95,
   "id": "f22ec063-0d69-4b09-a333-daa589700f35",
   "metadata": {},
   "outputs": [],
   "source": [
    "#join()method\n",
    "#the join() method takes all items in an iterabl"
   ]
  },
  {
   "cell_type": "code",
   "execution_count": 97,
   "id": "91082db6-78fc-4270-aecb-f69f384b8f99",
   "metadata": {},
   "outputs": [
    {
     "name": "stdout",
     "output_type": "stream",
     "text": [
      "john#peter#vicky\n"
     ]
    }
   ],
   "source": [
    "#join all items in a tuple into a string,using a hash character  as separator:\n",
    "mytuple=(\"john\",\"peter\",\"vicky\")\n",
    "x= \"#\".join(mytuple)\n",
    "print(x)"
   ]
  },
  {
   "cell_type": "code",
   "execution_count": 1,
   "id": "afd2e038-813d-470d-97af-cf31390868be",
   "metadata": {},
   "outputs": [
    {
     "name": "stdout",
     "output_type": "stream",
     "text": [
      "i like apples\n"
     ]
    }
   ],
   "source": [
    "# replace()method\n",
    "#the replace()method replaces a specified phrase with another specified phrase.\n",
    "#replace the word \"bananas\":\n",
    "txt=\"i like bananas\"\n",
    "x=txt.replace(\"bananas\",\"apples\")\n",
    "print(x)"
   ]
  },
  {
   "cell_type": "code",
   "execution_count": 102,
   "id": "ae3a211d-c9c4-42f2-8b00-1660531ab7e0",
   "metadata": {},
   "outputs": [
    {
     "name": "stdout",
     "output_type": "stream",
     "text": [
      "('i could eat bananas all day', '', '')\n"
     ]
    }
   ],
   "source": [
    "#partition() method\n",
    "#the partition()method searches for a specified string, and spilts the string into a tuplecontaining three elements.\n",
    "#the first element contain the part before the specified string.\n",
    "#the second element contains the specified string.\n",
    "#the third element contains the part after string.\n",
    "#if the specified value is not found,the partition()method returna a tuple containing:1-the whole string,2-an empty string,3-an empty string:\n",
    "txt=\"i could eat bananas all day\"\n",
    "x=txt.partition (\"apples\")\n",
    "print(x)"
   ]
  },
  {
   "cell_type": "code",
   "execution_count": 103,
   "id": "5de707d4-e847-42e0-9e26-d310ca87a336",
   "metadata": {},
   "outputs": [
    {
     "name": "stdout",
     "output_type": "stream",
     "text": [
      "['welcome', 'to', 'the', 'jungle']\n"
     ]
    }
   ],
   "source": [
    "# split method\n",
    "# the split() method splits a string into a list.\n",
    "# split a string into a list where each word is a list items:\n",
    "txt=\"welcome to the jungle\"\n",
    "x=txt.split()\n",
    "print(x)"
   ]
  },
  {
   "cell_type": "code",
   "execution_count": 104,
   "id": "39a012d2-46ad-4cce-8feb-1e8cedc86bad",
   "metadata": {},
   "outputs": [
    {
     "name": "stdout",
     "output_type": "stream",
     "text": [
      "['hello', 'my name is peter', 'i am 26 years old']\n"
     ]
    }
   ],
   "source": [
    "#split the string,using comma,followed by a space ,as a separator:\n",
    "txt=\"hello,my name is peter,i am 26 years old\"\n",
    "x=txt.split(\",\")\n",
    "print(x)"
   ]
  },
  {
   "cell_type": "code",
   "execution_count": null,
   "id": "64801e18-4759-43b8-93f1-2a7e536a5a59",
   "metadata": {},
   "outputs": [],
   "source": []
  }
 ],
 "metadata": {
  "kernelspec": {
   "display_name": "Python 3 (ipykernel)",
   "language": "python",
   "name": "python3"
  },
  "language_info": {
   "codemirror_mode": {
    "name": "ipython",
    "version": 3
   },
   "file_extension": ".py",
   "mimetype": "text/x-python",
   "name": "python",
   "nbconvert_exporter": "python",
   "pygments_lexer": "ipython3",
   "version": "3.12.4"
  }
 },
 "nbformat": 4,
 "nbformat_minor": 5
}
