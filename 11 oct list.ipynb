{
 "cells": [
  {
   "cell_type": "code",
   "execution_count": 3,
   "id": "b7d88e72-7ebe-4ced-8379-d66ec4416fd6",
   "metadata": {},
   "outputs": [
    {
     "name": "stdout",
     "output_type": "stream",
     "text": [
      "2\n"
     ]
    }
   ],
   "source": [
    "M=[11,27,13,91,9]\n",
    "mid=len(M)//2\n",
    "print(mid)"
   ]
  },
  {
   "cell_type": "code",
   "execution_count": 4,
   "id": "b2937ef1-5e05-42d2-a839-be36b7c0aac8",
   "metadata": {},
   "outputs": [
    {
     "name": "stdout",
     "output_type": "stream",
     "text": [
      "[1, 2, 3, 4, 5, 6, 7, 8, 9, 10, 11]\n"
     ]
    }
   ],
   "source": [
    "list=[1,2,3,4,5,6,7,8,9,10]\n",
    "list.append(11)\n",
    "print(list)"
   ]
  },
  {
   "cell_type": "code",
   "execution_count": 5,
   "id": "63d94d35-90cb-4499-a90d-0eb281227820",
   "metadata": {},
   "outputs": [
    {
     "name": "stdout",
     "output_type": "stream",
     "text": [
      "5\n"
     ]
    }
   ],
   "source": [
    "mid2=len(list)//2\n",
    "print(mid2)"
   ]
  },
  {
   "cell_type": "code",
   "execution_count": 6,
   "id": "84d34ffe-0ad0-4ace-8a3e-6ebceb919528",
   "metadata": {},
   "outputs": [
    {
     "name": "stdout",
     "output_type": "stream",
     "text": [
      "[1, 2, 3, 4, 5, 1000, 6, 7, 8, 9, 10, 11]\n"
     ]
    }
   ],
   "source": [
    "list.insert(mid2,1000)\n",
    "print(list)"
   ]
  },
  {
   "cell_type": "code",
   "execution_count": 7,
   "id": "3babc7be-e3c0-451d-8c3f-119a0cd25ea0",
   "metadata": {},
   "outputs": [
    {
     "name": "stdout",
     "output_type": "stream",
     "text": [
      "4\n"
     ]
    }
   ],
   "source": [
    "list=[1,2,3,4,5,6,7,8,9,10,11,12]\n",
    "mid3=len(list)//3\n",
    "print(mid3)"
   ]
  },
  {
   "cell_type": "code",
   "execution_count": 8,
   "id": "bf39436a-719b-4986-8571-bb249249b9a6",
   "metadata": {},
   "outputs": [
    {
     "name": "stdout",
     "output_type": "stream",
     "text": [
      "[1, 2, 3, 4]\n"
     ]
    }
   ],
   "source": [
    "print(list[:mid3])"
   ]
  },
  {
   "cell_type": "code",
   "execution_count": 9,
   "id": "74280f66-33db-4f02-833f-90346fbe0eeb",
   "metadata": {},
   "outputs": [
    {
     "name": "stdout",
     "output_type": "stream",
     "text": [
      "[5, 6, 7, 8]\n"
     ]
    }
   ],
   "source": [
    "print(list[mid3:mid3*2])"
   ]
  },
  {
   "cell_type": "code",
   "execution_count": 10,
   "id": "d3021a8c-afb3-4043-b700-8a688c2fb752",
   "metadata": {},
   "outputs": [
    {
     "name": "stdout",
     "output_type": "stream",
     "text": [
      "[9, 10, 11, 12]\n"
     ]
    }
   ],
   "source": [
    "print(list[mid3*2:])\n"
   ]
  },
  {
   "cell_type": "code",
   "execution_count": 12,
   "id": "6d87191c-a1eb-40d3-81b3-d0510433b9a5",
   "metadata": {},
   "outputs": [
    {
     "name": "stdout",
     "output_type": "stream",
     "text": [
      "13\n"
     ]
    }
   ],
   "source": [
    "print(M[mid])"
   ]
  },
  {
   "cell_type": "code",
   "execution_count": 13,
   "id": "4d45673c-6bee-464b-a5fb-2b4dbd241d88",
   "metadata": {},
   "outputs": [
    {
     "name": "stdout",
     "output_type": "stream",
     "text": [
      "[13, 91, 9]\n"
     ]
    }
   ],
   "source": [
    "print(M[mid:])"
   ]
  },
  {
   "cell_type": "code",
   "execution_count": 14,
   "id": "084fd039-c7f4-4694-bff5-f55068a7b3d3",
   "metadata": {},
   "outputs": [
    {
     "name": "stdout",
     "output_type": "stream",
     "text": [
      "[11, 27]\n"
     ]
    }
   ],
   "source": [
    "print(M[:mid])"
   ]
  }
 ],
 "metadata": {
  "kernelspec": {
   "display_name": "Python 3 (ipykernel)",
   "language": "python",
   "name": "python3"
  },
  "language_info": {
   "codemirror_mode": {
    "name": "ipython",
    "version": 3
   },
   "file_extension": ".py",
   "mimetype": "text/x-python",
   "name": "python",
   "nbconvert_exporter": "python",
   "pygments_lexer": "ipython3",
   "version": "3.12.4"
  }
 },
 "nbformat": 4,
 "nbformat_minor": 5
}
