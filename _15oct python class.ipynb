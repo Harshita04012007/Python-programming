{
 "cells": [
  {
   "cell_type": "code",
   "execution_count": 1,
   "id": "6ba25966-a36b-4fa5-bc52-6e27c5179e1f",
   "metadata": {},
   "outputs": [],
   "source": [
    "# WAP TO CHECK WHETHER A GIVEN NO.IS EVEN OR ODD\n"
   ]
  },
  {
   "cell_type": "code",
   "execution_count": 2,
   "id": "5c694fbb-8a8f-4b93-9b89-75201cb9da5c",
   "metadata": {},
   "outputs": [
    {
     "name": "stdin",
     "output_type": "stream",
     "text": [
      "enter a number: 5\n"
     ]
    },
    {
     "name": "stdout",
     "output_type": "stream",
     "text": [
      "odd no\n"
     ]
    }
   ],
   "source": [
    "num=int(input(\"enter a number:\"))\n",
    "if(num % 2)==0:\n",
    "    print(\"even no\")\n",
    "else:\n",
    "    print(\"odd no\")"
   ]
  },
  {
   "cell_type": "code",
   "execution_count": 3,
   "id": "f409d6b0-0ba3-427e-aa84-0eb52052b5ad",
   "metadata": {},
   "outputs": [
    {
     "name": "stdout",
     "output_type": "stream",
     "text": [
      "a and b are equal\n"
     ]
    }
   ],
   "source": [
    "#elif\n",
    "a=11\n",
    "b=11\n",
    "if b > a:\n",
    "    print(\"b is greater than a\")\n",
    "elif a==b:\n",
    "    print(\"a and b are equal\")"
   ]
  },
  {
   "cell_type": "code",
   "execution_count": 6,
   "id": "874b6584-692a-4b18-b58b-95b6993e0b50",
   "metadata": {},
   "outputs": [
    {
     "name": "stdout",
     "output_type": "stream",
     "text": [
      "negative number\n"
     ]
    }
   ],
   "source": [
    "number= -5\n",
    "if number >0:\n",
    "    print('positive number')\n",
    "elif number <0:\n",
    "    print('negative number')\n",
    "else:\n",
    "    print('zero')"
   ]
  },
  {
   "cell_type": "code",
   "execution_count": 23,
   "id": "34a3ef2a-91f1-4c84-b95a-3712a490ab72",
   "metadata": {},
   "outputs": [
    {
     "name": "stdout",
     "output_type": "stream",
     "text": [
      "number is positive\n"
     ]
    }
   ],
   "source": [
    "# nested if statements\n",
    "number= 5\n",
    "\n",
    "# outer if statement\n",
    "if number >= 0:\n",
    "    #inner if statement\n",
    "    if number == 0:\n",
    "        print('number is 0');\n",
    "    # inner else statement\n",
    "    else:\n",
    "        print('number is positive')\n",
    "        \n",
    "        # outer else statement\n",
    "else:\n",
    "    print('number is negative')"
   ]
  },
  {
   "cell_type": "code",
   "execution_count": 24,
   "id": "5462ef1e-beab-4efb-ba63-1d7e24813256",
   "metadata": {},
   "outputs": [
    {
     "name": "stdout",
     "output_type": "stream",
     "text": [
      "both conditions are true\n"
     ]
    }
   ],
   "source": [
    "#using and\n",
    "a=200\n",
    "b=33\n",
    "c=500\n",
    "if a > b and c > a:\n",
    "    print(\"both conditions are true\")\n",
    "else:\n",
    "    print(\"both conditons are not true\")"
   ]
  },
  {
   "cell_type": "code",
   "execution_count": 25,
   "id": "9d77d258-a818-4572-b187-7ae876d829ba",
   "metadata": {},
   "outputs": [
    {
     "name": "stdout",
     "output_type": "stream",
     "text": [
      "at least one of the conditions is true\n"
     ]
    }
   ],
   "source": [
    "#using or\n",
    "a=200\n",
    "b=33\n",
    "c=500\n",
    "if a > b or a > c:\n",
    "    print(\"at least one of the conditions is true\")"
   ]
  },
  {
   "cell_type": "code",
   "execution_count": null,
   "id": "b007a18f-289d-4742-92e8-ecdb5484c3e1",
   "metadata": {},
   "outputs": [],
   "source": [
    "#using not\n",
    "a=33\n",
    "b=200\n",
    "if a "
   ]
  },
  {
   "cell_type": "code",
   "execution_count": null,
   "id": "ce5f6ecc-71d4-4546-891e-ef92b7ffa11c",
   "metadata": {},
   "outputs": [],
   "source": []
  },
  {
   "cell_type": "code",
   "execution_count": null,
   "id": "e4b82a5f-2dea-4b43-a269-f3e2abe8493d",
   "metadata": {},
   "outputs": [],
   "source": []
  },
  {
   "cell_type": "code",
   "execution_count": null,
   "id": "bfe1592e-a0fb-44e3-99d4-19575bf5a0cd",
   "metadata": {},
   "outputs": [],
   "source": []
  }
 ],
 "metadata": {
  "kernelspec": {
   "display_name": "Python 3 (ipykernel)",
   "language": "python",
   "name": "python3"
  },
  "language_info": {
   "codemirror_mode": {
    "name": "ipython",
    "version": 3
   },
   "file_extension": ".py",
   "mimetype": "text/x-python",
   "name": "python",
   "nbconvert_exporter": "python",
   "pygments_lexer": "ipython3",
   "version": "3.12.4"
  }
 },
 "nbformat": 4,
 "nbformat_minor": 5
}
