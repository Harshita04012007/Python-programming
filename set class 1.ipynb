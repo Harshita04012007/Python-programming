{
 "cells": [
  {
   "cell_type": "code",
   "execution_count": 1,
   "id": "1b9db207-5c57-4274-89d8-081cc4006f6d",
   "metadata": {},
   "outputs": [
    {
     "name": "stdout",
     "output_type": "stream",
     "text": [
      "{1, 2, 3, 4, 5}\n"
     ]
    }
   ],
   "source": [
    "# set\n",
    "set1={1,2,3,4,5}\n",
    "set2={1,1,1,2,2,3,3,4,5}\n",
    "print (set2)"
   ]
  },
  {
   "cell_type": "code",
   "execution_count": 2,
   "id": "6334e0ed-0400-4dad-9635-391dfc8bf222",
   "metadata": {},
   "outputs": [
    {
     "name": "stdout",
     "output_type": "stream",
     "text": [
      "{'b', 'd', 'c', 'a'}\n"
     ]
    }
   ],
   "source": [
    "set3={'a','b','c','d'}\n",
    "print(set3)"
   ]
  },
  {
   "cell_type": "code",
   "execution_count": 7,
   "id": "e78d19ba-a7c0-43dc-988f-3b49f020fb50",
   "metadata": {},
   "outputs": [
    {
     "name": "stdout",
     "output_type": "stream",
     "text": [
      "{1, 2, 3, 'a', 'b', 'c'}\n"
     ]
    }
   ],
   "source": [
    "set4={'a',1,'b',2,'c',3,True}\n",
    "print (set4)"
   ]
  },
  {
   "cell_type": "code",
   "execution_count": 17,
   "id": "27b7c9da-1f66-4066-b931-b098c79a7d60",
   "metadata": {},
   "outputs": [
    {
     "name": "stdout",
     "output_type": "stream",
     "text": [
      "{'apple', 'banana', 'cherry'}\n",
      "{1, 3, 5, 7, 9}\n",
      "{False, True}\n"
     ]
    }
   ],
   "source": [
    "set1={\"apple\",\"banana\",\"cherry\"}\n",
    "set2={1,5,7,9,3}\n",
    "set3={True,False,False}\n",
    "print(set1)\n",
    "print(set2)\n",
    "print(set3)\n"
   ]
  },
  {
   "cell_type": "code",
   "execution_count": 11,
   "id": "96f15ab1-5155-405a-bc31-8d58130f850c",
   "metadata": {},
   "outputs": [
    {
     "name": "stdout",
     "output_type": "stream",
     "text": [
      "True\n"
     ]
    }
   ],
   "source": [
    "thisset={\"apple\",\"banana\",\"cherry\"}\n",
    "print(\"banana\" in thisset)"
   ]
  },
  {
   "cell_type": "code",
   "execution_count": 18,
   "id": "fd701a71-b026-4520-b7c2-8837fe6223e3",
   "metadata": {},
   "outputs": [
    {
     "name": "stdout",
     "output_type": "stream",
     "text": [
      "{'apple', 'orange', 'banana', 'cherry'}\n"
     ]
    }
   ],
   "source": [
    "# add\n",
    "thisset={\"apple\",\"banana\",\"cherry\"}\n",
    "thisset.add(\"orange\")\n",
    "print(thisset)"
   ]
  },
  {
   "cell_type": "code",
   "execution_count": 19,
   "id": "daf7fa92-5d69-4ecf-a41e-a3557c5c6715",
   "metadata": {},
   "outputs": [
    {
     "name": "stdout",
     "output_type": "stream",
     "text": [
      "{'pineapple', 'banana', 'papaya', 'apple', 'orange', 'cherry'}\n"
     ]
    }
   ],
   "source": [
    "#update\n",
    "thisset={\"apple\",\"banana\",\"cherry\"}\n",
    "tropical={\"pineapple\",\"orange\",\"papaya\"}\n",
    "thisset.update(tropical)\n",
    "print(thisset)"
   ]
  },
  {
   "cell_type": "code",
   "execution_count": 20,
   "id": "19935ffb-f5db-4050-acae-1ef1eb005720",
   "metadata": {},
   "outputs": [
    {
     "name": "stdout",
     "output_type": "stream",
     "text": [
      "{'kiwi', 'banana', 'apple', 'orange', 'cherry'}\n"
     ]
    }
   ],
   "source": [
    "# update\n",
    "thisset={\"apple\",\"banana\",\"cherry\"}\n",
    "mylist=[\"kiwi\",\"orange\"]\n",
    "thisset.update(mylist)\n",
    "print(thisset)"
   ]
  },
  {
   "cell_type": "code",
   "execution_count": 21,
   "id": "67cd9ca3-d0da-479f-ab32-15cfe6d31b2d",
   "metadata": {},
   "outputs": [
    {
     "name": "stdout",
     "output_type": "stream",
     "text": [
      "{'apple', 'cherry'}\n"
     ]
    }
   ],
   "source": [
    "# remove\n",
    "thisset={\"apple\",\"banana\",\"cherry\"}\n",
    "thisset.remove(\"banana\")\n",
    "print(thisset)"
   ]
  },
  {
   "cell_type": "code",
   "execution_count": 22,
   "id": "2edcbff4-074e-45cb-8dda-e4815cfc5fe3",
   "metadata": {},
   "outputs": [
    {
     "name": "stdout",
     "output_type": "stream",
     "text": [
      "{'apple', 'cherry'}\n"
     ]
    }
   ],
   "source": [
    "# discard\n",
    "thisset={\"apple\",\"banana\",\"cherry\"}\n",
    "thisset.discard(\"banana\")\n",
    "print(thisset)\n"
   ]
  },
  {
   "cell_type": "code",
   "execution_count": 23,
   "id": "d9db15f6-a7e4-464e-b824-611063a049ed",
   "metadata": {},
   "outputs": [
    {
     "name": "stdout",
     "output_type": "stream",
     "text": [
      "{'apple', 'banana', 'cherry'}\n"
     ]
    }
   ],
   "source": [
    "# Discard\n",
    "thisset={\"apple\",\"banana\",\"cherry\"}\n",
    "thisset.discard(\"kiwi\")\n",
    "print(thisset)"
   ]
  },
  {
   "cell_type": "code",
   "execution_count": 1,
   "id": "fde728e4-9342-4947-87a3-a8079d678ad1",
   "metadata": {},
   "outputs": [
    {
     "name": "stdout",
     "output_type": "stream",
     "text": [
      "apple\n",
      "{'banana', 'cherry'}\n"
     ]
    }
   ],
   "source": [
    "#p0p()\n",
    "thisset={\"apple\",\"banana\",\"cherry\"}\n",
    "x=thisset.pop()\n",
    "print(x)\n",
    "print(thisset)\n"
   ]
  },
  {
   "cell_type": "code",
   "execution_count": 26,
   "id": "f8c36e79-e290-4deb-b9d9-6c55c2ffcf57",
   "metadata": {},
   "outputs": [
    {
     "name": "stdout",
     "output_type": "stream",
     "text": [
      "set()\n"
     ]
    }
   ],
   "source": [
    "#clear\n",
    "thisset={\"apple\",\"banana\",\"cherry\"}\n",
    "thisset.clear()\n",
    "print(thisset)"
   ]
  },
  {
   "cell_type": "code",
   "execution_count": 30,
   "id": "ca043785-26c1-4fcf-96fd-b025fcb29c88",
   "metadata": {},
   "outputs": [
    {
     "ename": "NameError",
     "evalue": "name 'thisset' is not defined",
     "output_type": "error",
     "traceback": [
      "\u001b[1;31m---------------------------------------------------------------------------\u001b[0m",
      "\u001b[1;31mNameError\u001b[0m                                 Traceback (most recent call last)",
      "Cell \u001b[1;32mIn[30], line 3\u001b[0m\n\u001b[0;32m      1\u001b[0m thisset\u001b[38;5;241m=\u001b[39m{\u001b[38;5;124m\"\u001b[39m\u001b[38;5;124mkiwi\u001b[39m\u001b[38;5;124m\"\u001b[39m,\u001b[38;5;124m\"\u001b[39m\u001b[38;5;124mpineapple\u001b[39m\u001b[38;5;124m\"\u001b[39m,\u001b[38;5;124m\"\u001b[39m\u001b[38;5;124mcherry\u001b[39m\u001b[38;5;124m\"\u001b[39m}\n\u001b[0;32m      2\u001b[0m \u001b[38;5;28;01mdel\u001b[39;00m thisset\n\u001b[1;32m----> 3\u001b[0m \u001b[38;5;28mprint\u001b[39m(thisset)\n",
      "\u001b[1;31mNameError\u001b[0m: name 'thisset' is not defined"
     ]
    }
   ],
   "source": [
    "#delete\n",
    "thisset={\"kiwi\",\"pineapple\",\"cherry\"}\n",
    "del thisset\n",
    "print(thisset)"
   ]
  },
  {
   "cell_type": "code",
   "execution_count": 35,
   "id": "121d501b-283c-4ad3-99ff-929cf3a6fb9e",
   "metadata": {},
   "outputs": [
    {
     "name": "stdout",
     "output_type": "stream",
     "text": [
      "{1, 2, 3, 'a', 'b', 'c'}\n"
     ]
    }
   ],
   "source": [
    "#join\n",
    "set1={\"a\",\"b\",\"c\"}\n",
    "set={1,2,3}\n",
    "set=set1.union(set2)\n",
    "print(set3)"
   ]
  },
  {
   "cell_type": "code",
   "execution_count": 32,
   "id": "9d072723-af45-4f41-a5d0-e22c82aa31bb",
   "metadata": {},
   "outputs": [
    {
     "name": "stdout",
     "output_type": "stream",
     "text": [
      "{1, 2, 3, 'a', 'b', 'c'}\n"
     ]
    }
   ],
   "source": [
    "set1={\"a\",\"b\",\"c\"}\n",
    "set2={1,2,3}\n",
    "set3=set1|set2\n",
    "print(set3)"
   ]
  },
  {
   "cell_type": "code",
   "execution_count": 36,
   "id": "a8c2c3fb-f04f-4bc5-80d8-db78e5af740d",
   "metadata": {},
   "outputs": [
    {
     "name": "stdout",
     "output_type": "stream",
     "text": [
      "{1, 2, 3, 'B', 'john', 'elena', 'C', 'bnana', 'apple', 'A', 'cherry'}\n"
     ]
    }
   ],
   "source": [
    "#JOINING SET\n",
    "#UNION\n",
    "set1={\"A\",\"B\",\"C\"}\n",
    "set2={1,2,3}\n",
    "set3={\"john\",\"elena\"}\n",
    "set4={\"apple\",\"bnana\",\"cherry\"}\n",
    "myset=set1.union(set2,set3,set4)\n",
    "print(myset)"
   ]
  },
  {
   "cell_type": "code",
   "execution_count": 37,
   "id": "76b7216f-5369-4c90-8ea0-447b0a6e6dbe",
   "metadata": {},
   "outputs": [
    {
     "name": "stdout",
     "output_type": "stream",
     "text": [
      "{1, 2, 3, 'B', 'john', 'elena', 'C', 'bnana', 'apple', 'A', 'cherry'}\n"
     ]
    }
   ],
   "source": [
    "#OPERATOR\n",
    "set1={\"A\",\"B\",\"C\"}\n",
    "set2={1,2,3}\n",
    "set3={\"john\",\"elena\"}\n",
    "set4={\"apple\",\"bnana\",\"cherry\"}\n",
    "myset=set1|set2|set3|set4\n",
    "print(myset)"
   ]
  },
  {
   "cell_type": "code",
   "execution_count": 1,
   "id": "f6e52005-5126-4bd6-8a32-b9e8ba186028",
   "metadata": {},
   "outputs": [
    {
     "name": "stdout",
     "output_type": "stream",
     "text": [
      "{'x'}\n"
     ]
    }
   ],
   "source": [
    "# INTERSECTION METHOD\n",
    "set1={\"x\",\"y\",\"z\"}\n",
    "set2={6,7,8,\"x\"}\n",
    "set3=set1.intersection(set2)\n",
    "print (set3)"
   ]
  },
  {
   "cell_type": "code",
   "execution_count": 2,
   "id": "fe714351-2af4-4159-bd53-1b83f06b4743",
   "metadata": {},
   "outputs": [
    {
     "name": "stdout",
     "output_type": "stream",
     "text": [
      "{'x'}\n"
     ]
    }
   ],
   "source": [
    "# & operator\n",
    "set1={\"x\",\"y\",\"z\"}\n",
    "set2={6,7,8,\"x\"}\n",
    "set3=set1&set2\n",
    "print(set3)"
   ]
  },
  {
   "cell_type": "code",
   "execution_count": 3,
   "id": "42714651-9463-497c-b7c6-086c9cd3018e",
   "metadata": {},
   "outputs": [
    {
     "name": "stdout",
     "output_type": "stream",
     "text": [
      "{'z', 'y'}\n"
     ]
    }
   ],
   "source": [
    "# Difference\n",
    "set1={\"x\",\"y\",\"z\"}\n",
    "set2={6,7,8,\"x\"}\n",
    "set3=set1.difference(set2)\n",
    "print(set3)"
   ]
  },
  {
   "cell_type": "code",
   "execution_count": 4,
   "id": "688a229e-76d6-4080-8d1c-1c6cca2a888d",
   "metadata": {},
   "outputs": [
    {
     "name": "stdout",
     "output_type": "stream",
     "text": [
      "{8, 6, 7}\n"
     ]
    }
   ],
   "source": [
    "set1={\"x\",\"y\",\"z\"}\n",
    "set2={6,7,8,\"x\"}\n",
    "set3=set2.difference(set1)\n",
    "print(set3)"
   ]
  },
  {
   "cell_type": "code",
   "execution_count": 5,
   "id": "8162896a-35d6-473c-9921-7ee43bc429ce",
   "metadata": {},
   "outputs": [
    {
     "name": "stdout",
     "output_type": "stream",
     "text": [
      "{'smith', 'bush', 6, 7, 8, 9, 'obama'}\n"
     ]
    }
   ],
   "source": [
    "# practice set\n",
    "setx={'john','smith','bush','clinton'}\n",
    "set7={6,7,8,9,'smith','bush','obama'}\n",
    "print(set7)"
   ]
  },
  {
   "cell_type": "code",
   "execution_count": 8,
   "id": "8a22a69a-3fb6-4989-b484-44705dd5082b",
   "metadata": {},
   "outputs": [
    {
     "name": "stdout",
     "output_type": "stream",
     "text": [
      "{'smith', 'bush', 'orange', 6, 7, 8, 9, 'obama'}\n"
     ]
    }
   ],
   "source": [
    "# add method\n",
    "setx={'john','smith','bush','clinton'}\n",
    "set7={6,7,8,9,'smith','bush','obama'}\n",
    "set8=set7.add(\"orange\")\n",
    "print(set7)\n"
   ]
  },
  {
   "cell_type": "code",
   "execution_count": 9,
   "id": "6f55a267-c720-4996-8bcf-2ded0bbe5d2e",
   "metadata": {},
   "outputs": [
    {
     "name": "stdout",
     "output_type": "stream",
     "text": [
      "{'smith', 'bush', 'clinton', 'orange', 'john'}\n"
     ]
    }
   ],
   "source": [
    "set8=setx.add(\"orange\")\n",
    "print(setx)"
   ]
  },
  {
   "cell_type": "code",
   "execution_count": 10,
   "id": "1e77ad15-91a8-4322-927d-e754c46b433b",
   "metadata": {},
   "outputs": [
    {
     "name": "stdout",
     "output_type": "stream",
     "text": [
      "{'smith', 'bush', 6, 7, 8, 9}\n"
     ]
    }
   ],
   "source": [
    "# remove method\n",
    "setx={'john','smith','bush','clinton'}\n",
    "set7={6,7,8,9,'smith','bush','obama'}\n",
    "set8=set7.remove(\"obama\")\n",
    "print(set7)"
   ]
  },
  {
   "cell_type": "code",
   "execution_count": 11,
   "id": "d7b4eda8-b311-4892-96b9-23732e0bdf58",
   "metadata": {},
   "outputs": [
    {
     "name": "stdout",
     "output_type": "stream",
     "text": [
      "{'smith', 'bush', 'clinton'}\n"
     ]
    }
   ],
   "source": [
    "set8=setx.remove(\"john\")\n",
    "print(setx)"
   ]
  },
  {
   "cell_type": "code",
   "execution_count": 12,
   "id": "8185ee0f-edc9-49f1-baa2-1a61b6c26436",
   "metadata": {},
   "outputs": [
    {
     "name": "stdout",
     "output_type": "stream",
     "text": [
      "{'smith', 'bush', 6, 7, 8, 9, 'clinton', 'john', 'obama'}\n"
     ]
    }
   ],
   "source": [
    "# joining method\n",
    "setx={'john','smith','bush','clinton'}\n",
    "set7={6,7,8,9,'smith','bush','obama'}\n",
    "set8=setx.union(set7)\n",
    "print(set8)"
   ]
  },
  {
   "cell_type": "code",
   "execution_count": 13,
   "id": "6d79266d-7de6-4907-a875-deeacc9cc527",
   "metadata": {},
   "outputs": [
    {
     "name": "stdout",
     "output_type": "stream",
     "text": [
      "{'smith', 'bush', 6, 7, 8, 9, 'clinton', 'john', 'obama'}\n"
     ]
    }
   ],
   "source": [
    "setx={'john','smith','bush','clinton'}\n",
    "set7={6,7,8,9,'smith','bush','obama'}\n",
    "set8=setx|set7\n",
    "print(set8)"
   ]
  },
  {
   "cell_type": "code",
   "execution_count": null,
   "id": "98e67c62-2c36-43a8-81cf-3ba59799b9ab",
   "metadata": {},
   "outputs": [],
   "source": []
  }
 ],
 "metadata": {
  "kernelspec": {
   "display_name": "Python 3 (ipykernel)",
   "language": "python",
   "name": "python3"
  },
  "language_info": {
   "codemirror_mode": {
    "name": "ipython",
    "version": 3
   },
   "file_extension": ".py",
   "mimetype": "text/x-python",
   "name": "python",
   "nbconvert_exporter": "python",
   "pygments_lexer": "ipython3",
   "version": "3.12.4"
  }
 },
 "nbformat": 4,
 "nbformat_minor": 5
}
