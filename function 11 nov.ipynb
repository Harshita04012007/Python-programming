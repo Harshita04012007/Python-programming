{
 "cells": [
  {
   "cell_type": "code",
   "execution_count": 9,
   "id": "ae37f2d3-ae17-4453-bc62-c66fe55b734c",
   "metadata": {},
   "outputs": [],
   "source": [
    "#a function is a block of code which only runs when it is\n",
    "#functions help in organizing code,reusing code"
   ]
  },
  {
   "cell_type": "code",
   "execution_count": 10,
   "id": "c4b38945-ae4c-44e1-aa3c-d4272b91c94e",
   "metadata": {},
   "outputs": [],
   "source": [
    "def my_function():\n",
    "    print(\"hello from a function\")"
   ]
  },
  {
   "cell_type": "code",
   "execution_count": 15,
   "id": "5bd9704f-2e11-4e8f-8565-5742bc274133",
   "metadata": {},
   "outputs": [],
   "source": [
    "#calling function\n",
    "def my_function():\n",
    "    print(\"hello from a function\")\n"
   ]
  },
  {
   "cell_type": "code",
   "execution_count": 16,
   "id": "29eb7fc6-6c30-4f14-a9cb-f763aceba4f5",
   "metadata": {},
   "outputs": [
    {
     "name": "stdout",
     "output_type": "stream",
     "text": [
      "hello from a function\n"
     ]
    }
   ],
   "source": [
    "my_function()"
   ]
  },
  {
   "cell_type": "code",
   "execution_count": 17,
   "id": "43f4c563-48ee-41f6-b96e-bba6c647546e",
   "metadata": {},
   "outputs": [],
   "source": [
    "#arguments\n",
    "#information can be passed into function as arguments.\n",
    "#argument are specified after the function name, inside the parentheses\n",
    "def my_function(fname):\n",
    "    print(fname + \" trump\")"
   ]
  },
  {
   "cell_type": "code",
   "execution_count": 18,
   "id": "ad254e84-d112-4567-bd89-624224089f38",
   "metadata": {},
   "outputs": [
    {
     "name": "stdout",
     "output_type": "stream",
     "text": [
      "donald trump\n"
     ]
    }
   ],
   "source": [
    "my_function(\"donald\")"
   ]
  },
  {
   "cell_type": "code",
   "execution_count": 19,
   "id": "b3c2b93b-a02a-477a-8849-285464947236",
   "metadata": {},
   "outputs": [
    {
     "name": "stdout",
     "output_type": "stream",
     "text": [
      "melliana trump\n"
     ]
    }
   ],
   "source": [
    "my_function(\"melliana\")"
   ]
  },
  {
   "cell_type": "code",
   "execution_count": 21,
   "id": "6491f435-d53d-445f-ac38-b37463283c9a",
   "metadata": {},
   "outputs": [],
   "source": [
    "#parameters or arguments\n",
    "#a parameter is the variable listed inside the parameter in the function defination\n",
    "#argument is  the value that is sent to the function when it is called "
   ]
  },
  {
   "cell_type": "code",
   "execution_count": 1,
   "id": "af8008de-ba0f-43c3-9152-5b5a2a4d5279",
   "metadata": {},
   "outputs": [
    {
     "ename": "SyntaxError",
     "evalue": "invalid syntax (2795066313.py, line 6)",
     "output_type": "error",
     "traceback": [
      "\u001b[1;36m  Cell \u001b[1;32mIn[1], line 6\u001b[1;36m\u001b[0m\n\u001b[1;33m    df even_odd(num):\u001b[0m\n\u001b[1;37m       ^\u001b[0m\n\u001b[1;31mSyntaxError\u001b[0m\u001b[1;31m:\u001b[0m invalid syntax\n"
     ]
    }
   ],
   "source": [
    "#syntax with return statement\n",
    "def function_name(parameters):\n",
    "    #function body\n",
    "    return expression\n",
    "\n",
    "df even_odd(num):\n",
    "if num%2==0:\n",
    "    print(\"the number is even\")\n",
    "else:\n",
    "    print(\"the number is odd\")\n",
    "    #call this function\n",
    "    even_odd(24)"
   ]
  },
  {
   "cell_type": "code",
   "execution_count": 23,
   "id": "a8480b3a-8bd8-4f47-879e-11776a18053e",
   "metadata": {},
   "outputs": [
    {
     "data": {
      "text/plain": [
       "6"
      ]
     },
     "execution_count": 23,
     "metadata": {},
     "output_type": "execute_result"
    }
   ],
   "source": [
    "#function with multiple parameter\n",
    "def add(a,b):\n",
    "    return a+b\n",
    "add(2,4)"
   ]
  },
  {
   "cell_type": "code",
   "execution_count": 25,
   "id": "9fbe9a5b-b47b-4bc7-9fb6-5c47627c5c1a",
   "metadata": {},
   "outputs": [
    {
     "data": {
      "text/plain": [
       "(6, 2)"
      ]
     },
     "execution_count": 25,
     "metadata": {},
     "output_type": "execute_result"
    }
   ],
   "source": [
    "#function can return multiple values\n",
    "def add(a,b):\n",
    "    return a+b,a\n",
    "add(2,4)\n",
    "    "
   ]
  },
  {
   "cell_type": "code",
   "execution_count": null,
   "id": "250969e5-0f95-4784-9a20-680693bc87aa",
   "metadata": {},
   "outputs": [],
   "source": [
    "#write a function to swap two number without using third value  (completed class)"
   ]
  }
 ],
 "metadata": {
  "kernelspec": {
   "display_name": "Python 3 (ipykernel)",
   "language": "python",
   "name": "python3"
  },
  "language_info": {
   "codemirror_mode": {
    "name": "ipython",
    "version": 3
   },
   "file_extension": ".py",
   "mimetype": "text/x-python",
   "name": "python",
   "nbconvert_exporter": "python",
   "pygments_lexer": "ipython3",
   "version": "3.12.4"
  }
 },
 "nbformat": 4,
 "nbformat_minor": 5
}
