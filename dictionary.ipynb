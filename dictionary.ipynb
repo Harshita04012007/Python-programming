{
 "cells": [
  {
   "cell_type": "code",
   "execution_count": 2,
   "id": "66823c58-5437-433d-9cc3-fbb644efbf5c",
   "metadata": {},
   "outputs": [
    {
     "name": "stdout",
     "output_type": "stream",
     "text": [
      "{'brand': 'bmw', 'modal': 'ix', 'year': 1964}\n"
     ]
    }
   ],
   "source": [
    "car_dict={\"brand\":\"bmw\",\"modal\":\"ix\",\"year\":1964}\n",
    "print(car_dict)\n"
   ]
  },
  {
   "cell_type": "code",
   "execution_count": 3,
   "id": "60110004-da8f-45ea-9923-894bd831cdbd",
   "metadata": {},
   "outputs": [
    {
     "name": "stdout",
     "output_type": "stream",
     "text": [
      "bmw\n"
     ]
    }
   ],
   "source": [
    "#accessing dictionary elements\n",
    "print (car_dict['brand'])"
   ]
  },
  {
   "cell_type": "code",
   "execution_count": 4,
   "id": "9d156847-96ac-4324-ac4f-637f7431518a",
   "metadata": {},
   "outputs": [
    {
     "name": "stdout",
     "output_type": "stream",
     "text": [
      "3\n"
     ]
    }
   ],
   "source": [
    "#length of dictionary\n",
    "print(len(car_dict))"
   ]
  },
  {
   "cell_type": "code",
   "execution_count": 5,
   "id": "cb4031d1-a125-4e5c-95ad-4a8d6fefbf0b",
   "metadata": {},
   "outputs": [
    {
     "name": "stdout",
     "output_type": "stream",
     "text": [
      "<class 'dict'>\n"
     ]
    }
   ],
   "source": [
    "#type of data\n",
    "print(type(car_dict))"
   ]
  },
  {
   "cell_type": "code",
   "execution_count": 6,
   "id": "effa0083-d984-4f47-939a-842dd531a4e0",
   "metadata": {},
   "outputs": [
    {
     "data": {
      "text/plain": [
       "{'brand': 'bmw', 'modal': 'ix', 'year': 2000}"
      ]
     },
     "execution_count": 6,
     "metadata": {},
     "output_type": "execute_result"
    }
   ],
   "source": [
    "# for duplicate key\n",
    "car_dict2={\"brand\":\"bmw\",\"modal\":\"ix\",\"year\":1964,\"year\":2000}\n",
    "car_dict2"
   ]
  },
  {
   "cell_type": "code",
   "execution_count": 7,
   "id": "e3f7a0fc-8348-4711-96ba-a99b1dcad44b",
   "metadata": {},
   "outputs": [
    {
     "data": {
      "text/plain": [
       "{'brand': 'bmw', 'modal': 'ix', 'year': 2000}"
      ]
     },
     "execution_count": 7,
     "metadata": {},
     "output_type": "execute_result"
    }
   ],
   "source": [
    "car_dict3={\"brand\":\"bmw\",\"modal\":\"ix\",\"year\":2024,\"year\":2000}\n",
    "car_dict3"
   ]
  },
  {
   "cell_type": "code",
   "execution_count": 16,
   "id": "a2809b8b-1965-4eff-a2c9-6d5c320dbacf",
   "metadata": {},
   "outputs": [
    {
     "name": "stdout",
     "output_type": "stream",
     "text": [
      "None\n"
     ]
    }
   ],
   "source": [
    "#for accessing dict items\n",
    "x=car_dict.get(\"model\")\n",
    "print(x)"
   ]
  },
  {
   "cell_type": "code",
   "execution_count": 12,
   "id": "4cdfabae-c0e2-48e3-93cb-5fdcf5903619",
   "metadata": {},
   "outputs": [
    {
     "data": {
      "text/plain": [
       "dict_keys(['brand', 'modal', 'year'])"
      ]
     },
     "execution_count": 12,
     "metadata": {},
     "output_type": "execute_result"
    }
   ],
   "source": [
    "#the keys()method will return a list of all the keys in the dictionary.\n",
    "car_dict.keys()"
   ]
  },
  {
   "cell_type": "code",
   "execution_count": 13,
   "id": "121f1836-c67f-4d35-91c7-f3407a710ac5",
   "metadata": {},
   "outputs": [
    {
     "data": {
      "text/plain": [
       "dict_values(['bmw', 'ix', 1964])"
      ]
     },
     "execution_count": 13,
     "metadata": {},
     "output_type": "execute_result"
    }
   ],
   "source": [
    "# the values() method will return a list of all the values the dictionary.\n",
    "car_dict.values()\n"
   ]
  },
  {
   "cell_type": "code",
   "execution_count": 15,
   "id": "eda0acd1-537d-46d0-b2cd-19c5c0183575",
   "metadata": {},
   "outputs": [
    {
     "name": "stdout",
     "output_type": "stream",
     "text": [
      "{'brand': 'bmw', 'modal': 'ix', 'year': 2024}\n"
     ]
    }
   ],
   "source": [
    "#the change values of dictionary\n",
    "car_dict [\"year\"]=2024\n",
    "print(car_dict)"
   ]
  },
  {
   "cell_type": "code",
   "execution_count": 17,
   "id": "cddc9337-1a3c-420e-93d1-560f37285999",
   "metadata": {},
   "outputs": [
    {
     "name": "stdout",
     "output_type": "stream",
     "text": [
      "{'brand': 'bmw', 'modal': 'ix', 'year': 2024, 'color': 'white'}\n"
     ]
    }
   ],
   "source": [
    "# to add new keys:value in the dictionary.\n",
    "car_dict[\"color\"]=\"white\"\n",
    "print(car_dict)"
   ]
  },
  {
   "cell_type": "code",
   "execution_count": 17,
   "id": "37d13e34-5742-4aad-a959-0513a86fc851",
   "metadata": {},
   "outputs": [
    {
     "name": "stdout",
     "output_type": "stream",
     "text": [
      "{'name': 'A', 'year': 2023, 'pass': True, 'marks': [50, 60, 70]}\n"
     ]
    }
   ],
   "source": [
    "# the value in dictionary items can be of any  data type\n",
    "d3={\"name\":\"A\",'year':2023,'pass':True,'marks':[50,60,70]}\n",
    "print(d3)"
   ]
  },
  {
   "cell_type": "code",
   "execution_count": 7,
   "id": "b8a49a05-2443-4232-b43e-347607f405d2",
   "metadata": {},
   "outputs": [
    {
     "name": "stdout",
     "output_type": "stream",
     "text": [
      "{'name': 'A', 'year': 2024, 'pass': True, 'marks': [50, 60, 70]}\n"
     ]
    }
   ],
   "source": [
    "d3.update({'year':2024})\n",
    "print(d3)\n"
   ]
  },
  {
   "cell_type": "code",
   "execution_count": 8,
   "id": "f2f64572-f1ea-4ef0-a5f7-a8090c15ec30",
   "metadata": {},
   "outputs": [
    {
     "name": "stdout",
     "output_type": "stream",
     "text": [
      "{'name': 'A', 'year': 2024, 'pass': True, 'marks': [50, 60, 70], 'phone_no': 94566}\n"
     ]
    }
   ],
   "source": [
    "d3['phone_no']=94566\n",
    "print(d3)"
   ]
  },
  {
   "cell_type": "code",
   "execution_count": 9,
   "id": "485d575c-be1b-4d8c-a9ff-52f3edb9fa86",
   "metadata": {},
   "outputs": [
    {
     "name": "stdout",
     "output_type": "stream",
     "text": [
      "{'name': 'A', 'year': 2024, 'pass': True, 'marks': [50, 60, 70], 'phone_no': 94566, 'email': 'asdf@gmail.com'}\n"
     ]
    }
   ],
   "source": [
    "d3.update({'email':'asdf@gmail.com'})\n",
    "print(d3)"
   ]
  },
  {
   "cell_type": "code",
   "execution_count": 10,
   "id": "6ae00b7f-d128-4118-93be-20e83fc84d48",
   "metadata": {},
   "outputs": [
    {
     "data": {
      "text/plain": [
       "94566"
      ]
     },
     "execution_count": 10,
     "metadata": {},
     "output_type": "execute_result"
    }
   ],
   "source": [
    "# FOR REMOVING DICTIONARY ITEMS.\n",
    "# THE POP()METHOD REMOVES THE ITEMS WITH THE SPECIFICED KEY NAME:\n",
    "d3.pop('phone_no')\n"
   ]
  },
  {
   "cell_type": "code",
   "execution_count": 11,
   "id": "5cf47271-1df3-4447-b4de-3260fa63fef9",
   "metadata": {},
   "outputs": [
    {
     "name": "stdout",
     "output_type": "stream",
     "text": [
      "{'name': 'A', 'year': 2024, 'pass': True, 'marks': [50, 60, 70], 'email': 'asdf@gmail.com'}\n"
     ]
    }
   ],
   "source": [
    "print(d3)"
   ]
  },
  {
   "cell_type": "code",
   "execution_count": 12,
   "id": "2970390f-b88e-43ca-9b21-0b77963b81e0",
   "metadata": {},
   "outputs": [],
   "source": [
    "# the del keyword removes the items with the specified key name:\n",
    "del d3['marks']"
   ]
  },
  {
   "cell_type": "code",
   "execution_count": 13,
   "id": "b95103ce-7f64-4492-adc9-a4516092fac4",
   "metadata": {},
   "outputs": [
    {
     "name": "stdout",
     "output_type": "stream",
     "text": [
      "{'name': 'A', 'year': 2024, 'pass': True, 'email': 'asdf@gmail.com'}\n"
     ]
    }
   ],
   "source": [
    "print(d3)"
   ]
  },
  {
   "cell_type": "code",
   "execution_count": 15,
   "id": "5bafd81f-6ee3-4bda-a929-2beab1bd5331",
   "metadata": {},
   "outputs": [
    {
     "ename": "NameError",
     "evalue": "name 'd3' is not defined",
     "output_type": "error",
     "traceback": [
      "\u001b[1;31m---------------------------------------------------------------------------\u001b[0m",
      "\u001b[1;31mNameError\u001b[0m                                 Traceback (most recent call last)",
      "Cell \u001b[1;32mIn[15], line 2\u001b[0m\n\u001b[0;32m      1\u001b[0m \u001b[38;5;66;03m# the del keyword can also delete the dictinary completely;\u001b[39;00m\n\u001b[1;32m----> 2\u001b[0m \u001b[38;5;28;01mdel\u001b[39;00m d3\n",
      "\u001b[1;31mNameError\u001b[0m: name 'd3' is not defined"
     ]
    }
   ],
   "source": [
    "# the del keyword can also delete the dictinary completely;\n",
    "del d3\n"
   ]
  },
  {
   "cell_type": "code",
   "execution_count": 18,
   "id": "964be0b3-de6d-43b4-908e-09405ae0b95e",
   "metadata": {},
   "outputs": [
    {
     "name": "stdout",
     "output_type": "stream",
     "text": [
      "{}\n"
     ]
    }
   ],
   "source": [
    "# the clear()method empties the dictionary:\n",
    "d3.clear()\n",
    "print(d3)"
   ]
  },
  {
   "cell_type": "code",
   "execution_count": 19,
   "id": "26631649-8059-4cb8-b971-203158d68eb9",
   "metadata": {},
   "outputs": [
    {
     "name": "stdout",
     "output_type": "stream",
     "text": [
      "{'name': 'A', 'year': 2023, 'pass': True, 'marks': [50, 60, 70]}\n"
     ]
    }
   ],
   "source": [
    "# copy dictionary:\n",
    "d3={\"name\":\"A\",'year':2023,'pass':True,'marks':[50,60,70]}\n",
    "print(d3)"
   ]
  },
  {
   "cell_type": "code",
   "execution_count": 20,
   "id": "d73e9864-2e99-4e52-90bf-e46bc0ef476a",
   "metadata": {},
   "outputs": [
    {
     "name": "stdout",
     "output_type": "stream",
     "text": [
      "{'name': 'A', 'year': 2023, 'pass': True, 'marks': [50, 60, 70]}\n"
     ]
    }
   ],
   "source": [
    "d4=d3.copy()\n",
    "print(d4)"
   ]
  },
  {
   "cell_type": "code",
   "execution_count": 21,
   "id": "c87c6a0f-fa1c-4bf3-b2a3-31c81a3b878d",
   "metadata": {},
   "outputs": [
    {
     "name": "stdout",
     "output_type": "stream",
     "text": [
      "{'name': 'A', 'year': 2023, 'pass': True, 'marks': [50, 60, 70]}\n"
     ]
    }
   ],
   "source": [
    "d5=dict(d4)\n",
    "print(d5)"
   ]
  },
  {
   "cell_type": "code",
   "execution_count": 22,
   "id": "e16f73ee-9e44-438e-a7c3-e4fd1e9895b0",
   "metadata": {},
   "outputs": [],
   "source": [
    "# nested dictionary"
   ]
  },
  {
   "cell_type": "code",
   "execution_count": 23,
   "id": "97485f02-3131-4013-8ba9-47f4df53de2e",
   "metadata": {},
   "outputs": [
    {
     "name": "stdout",
     "output_type": "stream",
     "text": [
      "{'child1': {'name': 'emil', 'year': 2004}, 'child2': {'name': 'toblas', 'year': 2007}, 'child3': {'name': 'linus', 'year': 2011}}\n"
     ]
    }
   ],
   "source": [
    "myfamily={\n",
    "    \"child1\":{\n",
    "        \"name\":\"emil\",\n",
    "        \"year\":2004\n",
    "    },\n",
    "    \"child2\":{\n",
    "        \"name\":\"toblas\",\n",
    "        \"year\":2007\n",
    "    },\n",
    "    \"child3\":{\n",
    "        \"name\":\"linus\",\n",
    "        \"year\":2011\n",
    "    },\n",
    "}\n",
    "print(myfamily)\n",
    "\n"
   ]
  },
  {
   "cell_type": "code",
   "execution_count": 24,
   "id": "8f5b9199-2612-46b6-94eb-1a2f93842e4e",
   "metadata": {},
   "outputs": [
    {
     "name": "stdout",
     "output_type": "stream",
     "text": [
      "toblas\n"
     ]
    }
   ],
   "source": [
    "print(myfamily[\"child2\"][\"name\"])"
   ]
  },
  {
   "cell_type": "code",
   "execution_count": null,
   "id": "99c769bb-0234-45e1-8870-492a34dd19cd",
   "metadata": {},
   "outputs": [],
   "source": []
  },
  {
   "cell_type": "code",
   "execution_count": null,
   "id": "4fc9d34e-d3d4-4fdd-8303-6d02c030e1fb",
   "metadata": {},
   "outputs": [],
   "source": []
  }
 ],
 "metadata": {
  "kernelspec": {
   "display_name": "Python 3 (ipykernel)",
   "language": "python",
   "name": "python3"
  },
  "language_info": {
   "codemirror_mode": {
    "name": "ipython",
    "version": 3
   },
   "file_extension": ".py",
   "mimetype": "text/x-python",
   "name": "python",
   "nbconvert_exporter": "python",
   "pygments_lexer": "ipython3",
   "version": "3.12.4"
  }
 },
 "nbformat": 4,
 "nbformat_minor": 5
}
