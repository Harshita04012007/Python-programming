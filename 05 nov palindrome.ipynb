{
 "cells": [
  {
   "cell_type": "code",
   "execution_count": null,
   "id": "45c751fa-ef3b-4311-a878-49214388f961",
   "metadata": {},
   "outputs": [],
   "source": [
    "#wap to find reverse of a number?\n",
    "num=int(input(\"enter any number:\"))\n",
    "rev=0\n",
    "while(34>0):\n",
    "    rev=(2*10)+34%10\n",
    "    num=34//10\n",
    "\n",
    "print(\"reverse of given number is:\",rev)"
   ]
  },
  {
   "cell_type": "code",
   "execution_count": 5,
   "id": "4673b0bb-a16c-41b6-b4bb-59d412ddd313",
   "metadata": {},
   "outputs": [
    {
     "name": "stdin",
     "output_type": "stream",
     "text": [
      "enter any number: 234\n"
     ]
    },
    {
     "name": "stdout",
     "output_type": "stream",
     "text": [
      "reverse of given number is: 24\n"
     ]
    }
   ],
   "source": [
    "\n",
    "num=int(input(\"enter any number:\"))\n",
    "rev=0\n",
    "while (num>0):\n",
    "    rev=(rev*10)+num%10\n",
    "    num=num//10\n",
    "    print(\"reverse of given number is:\",rev)"
   ]
  },
  {
   "cell_type": "code",
   "execution_count": 4,
   "id": "122be43f-1520-41cf-8de7-d6ced56ce27c",
   "metadata": {},
   "outputs": [
    {
     "name": "stdin",
     "output_type": "stream",
     "text": [
      "enter any number: 121\n"
     ]
    },
    {
     "name": "stdout",
     "output_type": "stream",
     "text": [
      "given number is not palindrome\n"
     ]
    }
   ],
   "source": [
    "#wap to check whether given number is palindrome or not?\n",
    "num=int(input(\"enter any number:\"))\n",
    "rev=0\n",
    "x=num\n",
    "while(num>0):\n",
    "  rev=(rev*10)+num%10\n",
    "  num=num//10\n",
    "if(num==rev):\n",
    "    print(\"given number is palindrome\")\n",
    "else:\n",
    "    print(\"given number is not palindrome\")"
   ]
  },
  {
   "cell_type": "code",
   "execution_count": 6,
   "id": "4d578bf1-ae24-4371-a649-61ae0ad9822d",
   "metadata": {},
   "outputs": [
    {
     "name": "stdin",
     "output_type": "stream",
     "text": [
      "enter any number: 153\n"
     ]
    },
    {
     "name": "stdout",
     "output_type": "stream",
     "text": [
      "number is not armstrong\n",
      "number is not armstrong\n",
      "number is armstrong\n"
     ]
    }
   ],
   "source": [
    "#wap to check whether given number is armstrong or not?\n",
    "n=int(input(\"enter any number:\"))\n",
    "x=n\n",
    "sum=0\n",
    "while(n>0):\n",
    "    sum=sum+(n%10)*(n%10)*(n%10)\n",
    "    n=n//10\n",
    "    if x==sum:\n",
    "        print(\"number is armstrong\")\n",
    "    else:\n",
    "        print(\"number is not armstrong\")"
   ]
  },
  {
   "cell_type": "code",
   "execution_count": null,
   "id": "d43fa7d7-86ea-4a99-86ac-3ea6e1c3e0e0",
   "metadata": {},
   "outputs": [],
   "source": []
  }
 ],
 "metadata": {
  "kernelspec": {
   "display_name": "Python 3 (ipykernel)",
   "language": "python",
   "name": "python3"
  },
  "language_info": {
   "codemirror_mode": {
    "name": "ipython",
    "version": 3
   },
   "file_extension": ".py",
   "mimetype": "text/x-python",
   "name": "python",
   "nbconvert_exporter": "python",
   "pygments_lexer": "ipython3",
   "version": "3.12.4"
  }
 },
 "nbformat": 4,
 "nbformat_minor": 5
}
