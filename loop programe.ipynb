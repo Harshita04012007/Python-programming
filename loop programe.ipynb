{
 "cells": [
  {
   "cell_type": "code",
   "execution_count": 10,
   "id": "e3011e66-de5a-4266-9865-c5d121037b61",
   "metadata": {},
   "outputs": [
    {
     "name": "stdout",
     "output_type": "stream",
     "text": [
      "1\n",
      "2\n",
      "3\n"
     ]
    }
   ],
   "source": [
    "#breAK STATEMENT\n",
    "i=1\n",
    "while(i<10):\n",
    " print(i)\n",
    " if i==3:\n",
    "    break\n",
    " i=i+1\n"
   ]
  },
  {
   "cell_type": "code",
   "execution_count": 2,
   "id": "77c78fdf-2465-4685-b7c2-abf4b3f63526",
   "metadata": {},
   "outputs": [
    {
     "name": "stdout",
     "output_type": "stream",
     "text": [
      "1\n",
      "2\n",
      "4\n",
      "5\n",
      "6\n",
      "7\n",
      "8\n",
      "9\n",
      "10\n"
     ]
    }
   ],
   "source": [
    "#continue statement\n",
    "i=0 \n",
    "while(i<10):\n",
    " i=i+1\n",
    " if(i==3):\n",
    "    continue\n",
    " print(i)"
   ]
  },
  {
   "cell_type": "code",
   "execution_count": 1,
   "id": "ba791c24-92b4-4c93-a0a0-391188e38794",
   "metadata": {},
   "outputs": [],
   "source": [
    "#22 oct"
   ]
  },
  {
   "cell_type": "code",
   "execution_count": 3,
   "id": "af4fd49f-fe78-42d3-ba18-c80df6a29508",
   "metadata": {},
   "outputs": [],
   "source": [
    "# a for loop is used for iterating over a sequence(that is either a list,a tuple , a dict or a string)"
   ]
  },
  {
   "cell_type": "code",
   "execution_count": 5,
   "id": "29b2a678-4921-4d72-af2d-f2342cba799c",
   "metadata": {},
   "outputs": [
    {
     "name": "stdout",
     "output_type": "stream",
     "text": [
      "A\n",
      "B\n",
      "C\n",
      "D\n"
     ]
    }
   ],
   "source": [
    "l1=[\"A\",\"B\",\"C\",\"D\"]\n",
    "for x in l1:\n",
    "    print(x)"
   ]
  },
  {
   "cell_type": "code",
   "execution_count": 6,
   "id": "2d365071-33ed-44e7-9ec7-986f4db48bfd",
   "metadata": {},
   "outputs": [
    {
     "name": "stdout",
     "output_type": "stream",
     "text": [
      "A\n",
      "A\n",
      "F\n",
      "T\n"
     ]
    }
   ],
   "source": [
    "for x in \"AAFT\":\n",
    "    print(x)"
   ]
  },
  {
   "cell_type": "code",
   "execution_count": 7,
   "id": "a6010a7f-286d-4c65-af7d-5ecfdf79dea7",
   "metadata": {},
   "outputs": [
    {
     "name": "stdout",
     "output_type": "stream",
     "text": [
      "A\n",
      "B\n"
     ]
    }
   ],
   "source": [
    "# break statement\n",
    "# exit the loop when x is \"B\":\n",
    "l1=[\"A\",\"B\",\"C\",\"D\"]\n",
    "for x in l1:\n",
    "    print(x)\n",
    "    if x==\"B\":\n",
    "        break"
   ]
  },
  {
   "cell_type": "code",
   "execution_count": 29,
   "id": "e8df6bba-f176-4b59-a9e8-3e23f6d2976f",
   "metadata": {},
   "outputs": [
    {
     "name": "stdout",
     "output_type": "stream",
     "text": [
      "B\n"
     ]
    }
   ],
   "source": [
    "# exit the loop when x is \"B\",but this time the break comes\n",
    "#before the print:\n",
    "l1=[\"A\",\"B\",\"C\",\"D\"]\n",
    "for x in l1:\n",
    "    if x ==\"B\":\n",
    "        exit\n",
    "        print(x)\n",
    "        \n",
    "        "
   ]
  },
  {
   "cell_type": "code",
   "execution_count": 22,
   "id": "f6ddcf2a-2a6a-459f-b50a-1295226a3d64",
   "metadata": {},
   "outputs": [
    {
     "name": "stdout",
     "output_type": "stream",
     "text": [
      "A\n",
      "C\n",
      "D\n"
     ]
    }
   ],
   "source": [
    "#continue statement\n",
    "l1=[\"A\",\"B\",\"C\",\"D\"]\n",
    "for x in l1:\n",
    "    if x ==\"B\":\n",
    "     continue\n",
    "    print(x)"
   ]
  },
  {
   "cell_type": "code",
   "execution_count": 10,
   "id": "4ac77703-c76c-4725-9929-05117d31a0d2",
   "metadata": {},
   "outputs": [
    {
     "name": "stdout",
     "output_type": "stream",
     "text": [
      "1\n",
      "2\n",
      "3\n",
      "4\n",
      "5\n",
      "6\n",
      "7\n",
      "8\n",
      "9\n",
      "10\n"
     ]
    }
   ],
   "source": [
    "#range() function\n",
    "for x in range(1,11):\n",
    "    print(x)"
   ]
  },
  {
   "cell_type": "code",
   "execution_count": 11,
   "id": "13c926b0-d4a5-44a3-afa5-2b7843622691",
   "metadata": {},
   "outputs": [
    {
     "name": "stdout",
     "output_type": "stream",
     "text": [
      "2\n",
      "5\n",
      "8\n",
      "11\n",
      "14\n",
      "17\n",
      "20\n",
      "23\n",
      "26\n",
      "29\n"
     ]
    }
   ],
   "source": [
    "for x in range(2,30,3):\n",
    "    print(x)"
   ]
  },
  {
   "cell_type": "code",
   "execution_count": 12,
   "id": "f86a10a9-1f62-4368-a533-1405556dd4ca",
   "metadata": {},
   "outputs": [
    {
     "name": "stdout",
     "output_type": "stream",
     "text": [
      "2\n",
      "3\n",
      "4\n",
      "5\n"
     ]
    }
   ],
   "source": [
    "for x in range(2,6):\n",
    "    print(x)"
   ]
  },
  {
   "cell_type": "code",
   "execution_count": 13,
   "id": "480fc823-3a91-4482-904b-0ef2d4b7c5c7",
   "metadata": {},
   "outputs": [
    {
     "name": "stdout",
     "output_type": "stream",
     "text": [
      "1 google\n",
      "1 meta\n",
      "1 fujitisu\n",
      "2 google\n",
      "2 meta\n",
      "2 fujitisu\n",
      "3 google\n",
      "3 meta\n",
      "3 fujitisu\n"
     ]
    }
   ],
   "source": [
    "#nested for loop\n",
    "l2=[1,2,3]\n",
    "l3=[\"google\",\"meta\",\"fujitisu\"]\n",
    "for x in l2:\n",
    "    for y in l3:\n",
    "        print(x,y)"
   ]
  },
  {
   "cell_type": "code",
   "execution_count": 17,
   "id": "448c46dc-47ec-4763-9a05-8de90c0bfb6b",
   "metadata": {},
   "outputs": [],
   "source": [
    "#PASS STATEMENT:FOR LOOPS CANNOT BE EMPTY,\n",
    "#BUT IF YOU FOR SOME REASON HAVE A FOR LOOP WITH NO CONTENT,\n",
    "#PUT IN THE PASS STATEMENT TO AVOID GETTING AN ERROR.\n",
    "for x in[0,1,2]:\n",
    "  pass"
   ]
  },
  {
   "cell_type": "code",
   "execution_count": 32,
   "id": "018149d0-54ba-4639-93d5-5360075a4ee8",
   "metadata": {},
   "outputs": [
    {
     "name": "stdout",
     "output_type": "stream",
     "text": [
      "10\n",
      "9\n",
      "8\n",
      "7\n",
      "6\n",
      "5\n",
      "4\n",
      "3\n",
      "2\n",
      "1\n"
     ]
    }
   ],
   "source": [
    "i=10\n",
    "while i > 0:\n",
    "    print(i)\n",
    "    i=i-1"
   ]
  },
  {
   "cell_type": "code",
   "execution_count": 31,
   "id": "a9eed6db-59c5-4b55-b6a7-4228ae5ecb6d",
   "metadata": {},
   "outputs": [
    {
     "name": "stdout",
     "output_type": "stream",
     "text": [
      "100\n",
      "90\n",
      "80\n",
      "70\n",
      "60\n",
      "50\n",
      "40\n",
      "30\n",
      "20\n",
      "10\n"
     ]
    }
   ],
   "source": [
    "i=100\n",
    "while i > 0:\n",
    "    print(i)\n",
    "    i=i-10"
   ]
  },
  {
   "cell_type": "code",
   "execution_count": null,
   "id": "75291f6c-7ba1-4f95-ac96-c85a28fbb95d",
   "metadata": {},
   "outputs": [],
   "source": []
  }
 ],
 "metadata": {
  "kernelspec": {
   "display_name": "Python 3 (ipykernel)",
   "language": "python",
   "name": "python3"
  },
  "language_info": {
   "codemirror_mode": {
    "name": "ipython",
    "version": 3
   },
   "file_extension": ".py",
   "mimetype": "text/x-python",
   "name": "python",
   "nbconvert_exporter": "python",
   "pygments_lexer": "ipython3",
   "version": "3.12.4"
  }
 },
 "nbformat": 4,
 "nbformat_minor": 5
}
